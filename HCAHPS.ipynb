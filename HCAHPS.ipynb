{
 "cells": [
  {
   "cell_type": "code",
   "execution_count": 233,
   "metadata": {
    "collapsed": true
   },
   "outputs": [],
   "source": [
    "import pandas as pd\n",
    "import sklearn as sk\n",
    "import matplotlib.pyplot as plt\n",
    "from sklearn.cross_validation import train_test_split\n",
    "from sklearn.linear_model import LinearRegression\n",
    "import numpy as np\n",
    "import seaborn as sns\n",
    "from sklearn import metrics\n",
    "%matplotlib inline "
   ]
  },
  {
   "cell_type": "code",
   "execution_count": 234,
   "metadata": {
    "collapsed": true
   },
   "outputs": [],
   "source": [
    "def correlation(x, y):\n",
    "    std_x = (x - x.mean())/x.std(ddof=0)\n",
    "    std_y = (y - y.mean())/y.std(ddof=0)\n",
    "    correl = (std_x*std_y).mean()\n",
    "    return correl"
   ]
  },
  {
   "cell_type": "code",
   "execution_count": 235,
   "metadata": {
    "collapsed": false
   },
   "outputs": [
    {
     "data": {
      "text/html": [
       "<div>\n",
       "<table border=\"1\" class=\"dataframe\">\n",
       "  <thead>\n",
       "    <tr style=\"text-align: right;\">\n",
       "      <th></th>\n",
       "      <th>Provider Number</th>\n",
       "      <th>Hospital Name</th>\n",
       "      <th>Address</th>\n",
       "      <th>City</th>\n",
       "      <th>State</th>\n",
       "      <th>ZIP Code</th>\n",
       "      <th>County Name</th>\n",
       "      <th>Communication with Nurses Floor</th>\n",
       "      <th>Communication with Nurses Achievement Threshold</th>\n",
       "      <th>Communication with Nurses Benchmark</th>\n",
       "      <th>...</th>\n",
       "      <th>Overall Rating of Hospital Achievement Threshold</th>\n",
       "      <th>Overall Rating of Hospital Benchmark</th>\n",
       "      <th>Overall Rating of Hospital Baseline Rate</th>\n",
       "      <th>Overall Rating of Hospital Performance Rate</th>\n",
       "      <th>Overall  Rating of Hospital Achievement Points</th>\n",
       "      <th>Overall Rating of Hospital Improvement Points</th>\n",
       "      <th>Overall Rating of Hospital Dimension Score</th>\n",
       "      <th>HCAHPS Base Score</th>\n",
       "      <th>HCAHPS Consistency Score</th>\n",
       "      <th>Location</th>\n",
       "    </tr>\n",
       "  </thead>\n",
       "  <tbody>\n",
       "    <tr>\n",
       "      <th>0</th>\n",
       "      <td>100209</td>\n",
       "      <td>KENDALL REGIONAL MEDICAL CENTER</td>\n",
       "      <td>11750 BIRD RD</td>\n",
       "      <td>Miami</td>\n",
       "      <td>FL</td>\n",
       "      <td>33175</td>\n",
       "      <td>DADE</td>\n",
       "      <td>58.14</td>\n",
       "      <td>78.19</td>\n",
       "      <td>86.61</td>\n",
       "      <td>...</td>\n",
       "      <td>70.02</td>\n",
       "      <td>84.6</td>\n",
       "      <td>61.01</td>\n",
       "      <td>60.28</td>\n",
       "      <td>0 out of 10</td>\n",
       "      <td>0 out of 9</td>\n",
       "      <td>0 out of 10</td>\n",
       "      <td>1</td>\n",
       "      <td>14</td>\n",
       "      <td>11750 BIRD RD\\nMiami, FL 33175\\n</td>\n",
       "    </tr>\n",
       "    <tr>\n",
       "      <th>1</th>\n",
       "      <td>50309</td>\n",
       "      <td>SUTTER ROSEVILLE MEDICAL CENTER</td>\n",
       "      <td>ONE MEDICAL PLAZA</td>\n",
       "      <td>Roseville</td>\n",
       "      <td>CA</td>\n",
       "      <td>95661</td>\n",
       "      <td>PLACER</td>\n",
       "      <td>58.14</td>\n",
       "      <td>78.19</td>\n",
       "      <td>86.61</td>\n",
       "      <td>...</td>\n",
       "      <td>70.02</td>\n",
       "      <td>84.6</td>\n",
       "      <td>74.83</td>\n",
       "      <td>74.11</td>\n",
       "      <td>3 out of 10</td>\n",
       "      <td>0 out of 9</td>\n",
       "      <td>3 out of 10</td>\n",
       "      <td>7</td>\n",
       "      <td>16</td>\n",
       "      <td>ONE MEDICAL PLAZA\\nRoseville, CA 95661\\n</td>\n",
       "    </tr>\n",
       "  </tbody>\n",
       "</table>\n",
       "<p>2 rows × 74 columns</p>\n",
       "</div>"
      ],
      "text/plain": [
       "   Provider Number                    Hospital Name            Address  \\\n",
       "0           100209  KENDALL REGIONAL MEDICAL CENTER      11750 BIRD RD   \n",
       "1            50309  SUTTER ROSEVILLE MEDICAL CENTER  ONE MEDICAL PLAZA   \n",
       "\n",
       "        City State  ZIP Code County Name  Communication with Nurses Floor  \\\n",
       "0      Miami    FL     33175        DADE                            58.14   \n",
       "1  Roseville    CA     95661      PLACER                            58.14   \n",
       "\n",
       "   Communication with Nurses Achievement Threshold  \\\n",
       "0                                            78.19   \n",
       "1                                            78.19   \n",
       "\n",
       "   Communication with Nurses Benchmark  \\\n",
       "0                                86.61   \n",
       "1                                86.61   \n",
       "\n",
       "                     ...                     \\\n",
       "0                    ...                      \n",
       "1                    ...                      \n",
       "\n",
       "  Overall Rating of Hospital Achievement Threshold  \\\n",
       "0                                            70.02   \n",
       "1                                            70.02   \n",
       "\n",
       "  Overall Rating of Hospital Benchmark  \\\n",
       "0                                 84.6   \n",
       "1                                 84.6   \n",
       "\n",
       "  Overall Rating of Hospital Baseline Rate  \\\n",
       "0                                    61.01   \n",
       "1                                    74.83   \n",
       "\n",
       "  Overall Rating of Hospital Performance Rate  \\\n",
       "0                                       60.28   \n",
       "1                                       74.11   \n",
       "\n",
       "  Overall  Rating of Hospital Achievement Points  \\\n",
       "0                                    0 out of 10   \n",
       "1                                    3 out of 10   \n",
       "\n",
       "   Overall Rating of Hospital Improvement Points  \\\n",
       "0                                     0 out of 9   \n",
       "1                                     0 out of 9   \n",
       "\n",
       "   Overall Rating of Hospital Dimension Score  HCAHPS Base Score  \\\n",
       "0                                 0 out of 10                  1   \n",
       "1                                 3 out of 10                  7   \n",
       "\n",
       "  HCAHPS Consistency Score                                  Location  \n",
       "0                       14          11750 BIRD RD\\nMiami, FL 33175\\n  \n",
       "1                       16  ONE MEDICAL PLAZA\\nRoseville, CA 95661\\n  \n",
       "\n",
       "[2 rows x 74 columns]"
      ]
     },
     "execution_count": 235,
     "metadata": {},
     "output_type": "execute_result"
    }
   ],
   "source": [
    "data = pd.read_csv('Hospital_Value-Based_Purchasing.csv')\n",
    "data.head(2)"
   ]
  },
  {
   "cell_type": "code",
   "execution_count": 236,
   "metadata": {
    "collapsed": false
   },
   "outputs": [
    {
     "data": {
      "text/html": [
       "<div>\n",
       "<table border=\"1\" class=\"dataframe\">\n",
       "  <thead>\n",
       "    <tr style=\"text-align: right;\">\n",
       "      <th></th>\n",
       "      <th>Provider Number</th>\n",
       "      <th>Hospital Name</th>\n",
       "      <th>Address</th>\n",
       "      <th>City</th>\n",
       "      <th>State</th>\n",
       "      <th>ZIP Code</th>\n",
       "      <th>County Name</th>\n",
       "      <th>Communication with Nurses Floor</th>\n",
       "      <th>Communication with Nurses Achievement Threshold</th>\n",
       "      <th>Communication with Nurses Benchmark</th>\n",
       "      <th>...</th>\n",
       "      <th>HCAHPS Base Score</th>\n",
       "      <th>HCAHPS Consistency Score</th>\n",
       "      <th>Location</th>\n",
       "      <th>doctorpeformance</th>\n",
       "      <th>nurseperformance</th>\n",
       "      <th>hospitalresponsivenesss</th>\n",
       "      <th>painmanagementperformance</th>\n",
       "      <th>hospitalcleanlinesss</th>\n",
       "      <th>dischargeperformance</th>\n",
       "      <th>overallperformance</th>\n",
       "    </tr>\n",
       "  </thead>\n",
       "  <tbody>\n",
       "    <tr>\n",
       "      <th>0</th>\n",
       "      <td>100209</td>\n",
       "      <td>KENDALL REGIONAL MEDICAL CENTER</td>\n",
       "      <td>11750 BIRD RD</td>\n",
       "      <td>Miami</td>\n",
       "      <td>FL</td>\n",
       "      <td>33175</td>\n",
       "      <td>DADE</td>\n",
       "      <td>58.14</td>\n",
       "      <td>78.19</td>\n",
       "      <td>86.61</td>\n",
       "      <td>...</td>\n",
       "      <td>1</td>\n",
       "      <td>14</td>\n",
       "      <td>11750 BIRD RD\\nMiami, FL 33175\\n</td>\n",
       "      <td>78.99</td>\n",
       "      <td>73.62</td>\n",
       "      <td>60.45</td>\n",
       "      <td>69.60</td>\n",
       "      <td>59.32</td>\n",
       "      <td>80.08</td>\n",
       "      <td>60.28</td>\n",
       "    </tr>\n",
       "    <tr>\n",
       "      <th>1</th>\n",
       "      <td>50309</td>\n",
       "      <td>SUTTER ROSEVILLE MEDICAL CENTER</td>\n",
       "      <td>ONE MEDICAL PLAZA</td>\n",
       "      <td>Roseville</td>\n",
       "      <td>CA</td>\n",
       "      <td>95661</td>\n",
       "      <td>PLACER</td>\n",
       "      <td>58.14</td>\n",
       "      <td>78.19</td>\n",
       "      <td>86.61</td>\n",
       "      <td>...</td>\n",
       "      <td>7</td>\n",
       "      <td>16</td>\n",
       "      <td>ONE MEDICAL PLAZA\\nRoseville, CA 95661\\n</td>\n",
       "      <td>77.37</td>\n",
       "      <td>75.57</td>\n",
       "      <td>68.10</td>\n",
       "      <td>70.93</td>\n",
       "      <td>63.38</td>\n",
       "      <td>84.71</td>\n",
       "      <td>74.11</td>\n",
       "    </tr>\n",
       "    <tr>\n",
       "      <th>2</th>\n",
       "      <td>330024</td>\n",
       "      <td>MOUNT SINAI HOSPITAL</td>\n",
       "      <td>ONE GUSTAVE L LEVY PLACE</td>\n",
       "      <td>New York</td>\n",
       "      <td>NY</td>\n",
       "      <td>10029</td>\n",
       "      <td>NEW YORK</td>\n",
       "      <td>58.14</td>\n",
       "      <td>78.19</td>\n",
       "      <td>86.61</td>\n",
       "      <td>...</td>\n",
       "      <td>0</td>\n",
       "      <td>13</td>\n",
       "      <td>ONE GUSTAVE L LEVY PLACE\\nNew York, NY 10029\\n</td>\n",
       "      <td>78.79</td>\n",
       "      <td>75.89</td>\n",
       "      <td>61.18</td>\n",
       "      <td>69.08</td>\n",
       "      <td>58.15</td>\n",
       "      <td>84.36</td>\n",
       "      <td>65.44</td>\n",
       "    </tr>\n",
       "    <tr>\n",
       "      <th>3</th>\n",
       "      <td>450369</td>\n",
       "      <td>CHILDRESS REGIONAL MEDICAL CENTER</td>\n",
       "      <td>HWY 83 NORTH</td>\n",
       "      <td>Childress</td>\n",
       "      <td>TX</td>\n",
       "      <td>79201</td>\n",
       "      <td>CHILDRESS</td>\n",
       "      <td>58.14</td>\n",
       "      <td>78.19</td>\n",
       "      <td>86.61</td>\n",
       "      <td>...</td>\n",
       "      <td>73</td>\n",
       "      <td>20</td>\n",
       "      <td>HWY 83 NORTH\\nChildress, TX 79201\\n</td>\n",
       "      <td>92.07</td>\n",
       "      <td>85.88</td>\n",
       "      <td>82.85</td>\n",
       "      <td>80.14</td>\n",
       "      <td>77.57</td>\n",
       "      <td>92.38</td>\n",
       "      <td>79.07</td>\n",
       "    </tr>\n",
       "    <tr>\n",
       "      <th>4</th>\n",
       "      <td>370054</td>\n",
       "      <td>GRADY MEMORIAL HOSPITAL</td>\n",
       "      <td>2220 IOWA STREET</td>\n",
       "      <td>Chickasha</td>\n",
       "      <td>OK</td>\n",
       "      <td>73018</td>\n",
       "      <td>GRADY</td>\n",
       "      <td>58.14</td>\n",
       "      <td>78.19</td>\n",
       "      <td>86.61</td>\n",
       "      <td>...</td>\n",
       "      <td>9</td>\n",
       "      <td>11</td>\n",
       "      <td>2220 IOWA STREET\\nChickasha, OK 73018\\n</td>\n",
       "      <td>76.52</td>\n",
       "      <td>72.37</td>\n",
       "      <td>67.43</td>\n",
       "      <td>71.70</td>\n",
       "      <td>64.00</td>\n",
       "      <td>88.41</td>\n",
       "      <td>58.41</td>\n",
       "    </tr>\n",
       "  </tbody>\n",
       "</table>\n",
       "<p>5 rows × 81 columns</p>\n",
       "</div>"
      ],
      "text/plain": [
       "   Provider Number                      Hospital Name  \\\n",
       "0           100209    KENDALL REGIONAL MEDICAL CENTER   \n",
       "1            50309    SUTTER ROSEVILLE MEDICAL CENTER   \n",
       "2           330024               MOUNT SINAI HOSPITAL   \n",
       "3           450369  CHILDRESS REGIONAL MEDICAL CENTER   \n",
       "4           370054            GRADY MEMORIAL HOSPITAL   \n",
       "\n",
       "                    Address       City State  ZIP Code County Name  \\\n",
       "0             11750 BIRD RD      Miami    FL     33175        DADE   \n",
       "1         ONE MEDICAL PLAZA  Roseville    CA     95661      PLACER   \n",
       "2  ONE GUSTAVE L LEVY PLACE   New York    NY     10029    NEW YORK   \n",
       "3              HWY 83 NORTH  Childress    TX     79201   CHILDRESS   \n",
       "4          2220 IOWA STREET  Chickasha    OK     73018       GRADY   \n",
       "\n",
       "   Communication with Nurses Floor  \\\n",
       "0                            58.14   \n",
       "1                            58.14   \n",
       "2                            58.14   \n",
       "3                            58.14   \n",
       "4                            58.14   \n",
       "\n",
       "   Communication with Nurses Achievement Threshold  \\\n",
       "0                                            78.19   \n",
       "1                                            78.19   \n",
       "2                                            78.19   \n",
       "3                                            78.19   \n",
       "4                                            78.19   \n",
       "\n",
       "   Communication with Nurses Benchmark        ...         HCAHPS Base Score  \\\n",
       "0                                86.61        ...                         1   \n",
       "1                                86.61        ...                         7   \n",
       "2                                86.61        ...                         0   \n",
       "3                                86.61        ...                        73   \n",
       "4                                86.61        ...                         9   \n",
       "\n",
       "  HCAHPS Consistency Score                                        Location  \\\n",
       "0                       14                11750 BIRD RD\\nMiami, FL 33175\\n   \n",
       "1                       16        ONE MEDICAL PLAZA\\nRoseville, CA 95661\\n   \n",
       "2                       13  ONE GUSTAVE L LEVY PLACE\\nNew York, NY 10029\\n   \n",
       "3                       20             HWY 83 NORTH\\nChildress, TX 79201\\n   \n",
       "4                       11         2220 IOWA STREET\\nChickasha, OK 73018\\n   \n",
       "\n",
       "  doctorpeformance nurseperformance  hospitalresponsivenesss  \\\n",
       "0            78.99            73.62                    60.45   \n",
       "1            77.37            75.57                    68.10   \n",
       "2            78.79            75.89                    61.18   \n",
       "3            92.07            85.88                    82.85   \n",
       "4            76.52            72.37                    67.43   \n",
       "\n",
       "   painmanagementperformance  hospitalcleanlinesss dischargeperformance  \\\n",
       "0                      69.60                 59.32                80.08   \n",
       "1                      70.93                 63.38                84.71   \n",
       "2                      69.08                 58.15                84.36   \n",
       "3                      80.14                 77.57                92.38   \n",
       "4                      71.70                 64.00                88.41   \n",
       "\n",
       "  overallperformance  \n",
       "0              60.28  \n",
       "1              74.11  \n",
       "2              65.44  \n",
       "3              79.07  \n",
       "4              58.41  \n",
       "\n",
       "[5 rows x 81 columns]"
      ]
     },
     "execution_count": 236,
     "metadata": {},
     "output_type": "execute_result"
    }
   ],
   "source": [
    "data['doctorpeformance'] = data['Communication with Doctors Performance Rate']\n",
    "data['nurseperformance'] = data['Communication with Nurses Performance Rate']\n",
    "data['hospitalresponsivenesss']= data['Responsiveness of Hospital Staff Performance Rate']\n",
    "data['painmanagementperformance']=data['Pain Management Performance Rate']\n",
    "data['hospitalcleanlinesss'] = data['Cleanliness and Quietness of Hospital Environment Performance Rate']\n",
    "data['dischargeperformance'] = data['Discharge Information Performance Rate']\n",
    "data['overallperformance'] = data['Overall Rating of Hospital Performance Rate']\n",
    "data.head()"
   ]
  },
  {
   "cell_type": "code",
   "execution_count": 237,
   "metadata": {
    "collapsed": false
   },
   "outputs": [],
   "source": [
    "data_formatted = data[data.doctorpeformance.str.contains(\"Not\") == False]\n"
   ]
  },
  {
   "cell_type": "code",
   "execution_count": 238,
   "metadata": {
    "collapsed": false
   },
   "outputs": [],
   "source": [
    "# data_formatted['doctorpeformance'].dtype"
   ]
  },
  {
   "cell_type": "code",
   "execution_count": 239,
   "metadata": {
    "collapsed": false
   },
   "outputs": [],
   "source": [
    "data_formatted.doctorpeformance=data_formatted.doctorpeformance.astype(float)\n",
    "data_formatted.nurseperformance = data_formatted.nurseperformance.astype(float)\n",
    "data_formatted.hospitalresponsivenesss = data_formatted.hospitalresponsivenesss.astype(float)\n",
    "data_formatted.painmanagementperformance = data_formatted.painmanagementperformance.astype(float)\n",
    "data_formatted.hospitalcleanlinesss = data_formatted.hospitalcleanlinesss.astype(float)\n",
    "data_formatted.dischargeperformance = data_formatted.dischargeperformance.astype(float)\n",
    "data_formatted.overallperformance = data_formatted.overallperformance.astype(float)\n"
   ]
  },
  {
   "cell_type": "code",
   "execution_count": 240,
   "metadata": {
    "collapsed": false
   },
   "outputs": [],
   "source": [
    "doctorperformance = data_formatted['doctorpeformance']\n",
    "nurseperformance=data_formatted['nurseperformance']\n",
    "hospitalresponsivenesss=data_formatted['hospitalresponsivenesss']\n",
    "painmanagementperformance=data_formatted['painmanagementperformance']\n",
    "hospitalcleanlinesss=data_formatted['hospitalcleanlinesss']\n",
    "dischargeperformance=data_formatted['dischargeperformance']\n",
    "overallperformance=data_formatted['overallperformance']"
   ]
  },
  {
   "cell_type": "code",
   "execution_count": 241,
   "metadata": {
    "collapsed": false
   },
   "outputs": [
    {
     "name": "stdout",
     "output_type": "stream",
     "text": [
      "0.635345866262\n"
     ]
    }
   ],
   "source": [
    "print correlation(doctorperformance, overallperformance)"
   ]
  },
  {
   "cell_type": "code",
   "execution_count": 242,
   "metadata": {
    "collapsed": false
   },
   "outputs": [
    {
     "name": "stdout",
     "output_type": "stream",
     "text": [
      "0.785858193176\n"
     ]
    }
   ],
   "source": [
    "print correlation(nurseperformance, overallperformance)"
   ]
  },
  {
   "cell_type": "code",
   "execution_count": 243,
   "metadata": {
    "collapsed": false
   },
   "outputs": [
    {
     "data": {
      "text/plain": [
       "<matplotlib.text.Text at 0x1073aeb8>"
      ]
     },
     "execution_count": 243,
     "metadata": {},
     "output_type": "execute_result"
    },
    {
     "data": {
      "image/png": "[encoded data removed]",
      "text/plain": [
       "<matplotlib.figure.Figure at 0x10701b38>"
      ]
     },
     "metadata": {},
     "output_type": "display_data"
    }
   ],
   "source": [
    "plt.scatter(x=nurseperformance,y=overallperformance, color='blue')\n",
    "plt.xlabel('Nurse Performance')\n",
    "plt.ylabel('Overall Performance')\n",
    "plt.title('Nurse Performance v/s Overall Performance')"
   ]
  },
  {
   "cell_type": "code",
   "execution_count": 244,
   "metadata": {
    "collapsed": false
   },
   "outputs": [
    {
     "name": "stdout",
     "output_type": "stream",
     "text": [
      "0.702637177189\n"
     ]
    }
   ],
   "source": [
    "print correlation(hospitalresponsivenesss, overallperformance)"
   ]
  },
  {
   "cell_type": "code",
   "execution_count": 245,
   "metadata": {
    "collapsed": false
   },
   "outputs": [
    {
     "name": "stdout",
     "output_type": "stream",
     "text": [
      "0.739759590254\n"
     ]
    }
   ],
   "source": [
    "print correlation(painmanagementperformance, overallperformance)"
   ]
  },
  {
   "cell_type": "code",
   "execution_count": 246,
   "metadata": {
    "collapsed": false
   },
   "outputs": [
    {
     "data": {
      "text/plain": [
       "<matplotlib.text.Text at 0x10dd3358>"
      ]
     },
     "execution_count": 246,
     "metadata": {},
     "output_type": "execute_result"
    },
    {
     "data": {
      "image/png": "[encoded data removed]",
      "text/plain": [
       "<matplotlib.figure.Figure at 0x108bc240>"
      ]
     },
     "metadata": {},
     "output_type": "display_data"
    }
   ],
   "source": [
    "plt.scatter(x=painmanagementperformance,y=overallperformance, color='blue')\n",
    "plt.xlabel('Pain Management Performance')\n",
    "plt.ylabel('Overall Performance')\n",
    "plt.title('Pain Management Peformance v/s Overall Performance')"
   ]
  },
  {
   "cell_type": "code",
   "execution_count": 247,
   "metadata": {
    "collapsed": false
   },
   "outputs": [
    {
     "name": "stdout",
     "output_type": "stream",
     "text": [
      "0.679832223992\n"
     ]
    }
   ],
   "source": [
    "print correlation(hospitalcleanlinesss, overallperformance)"
   ]
  },
  {
   "cell_type": "code",
   "execution_count": 248,
   "metadata": {
    "collapsed": false
   },
   "outputs": [
    {
     "name": "stdout",
     "output_type": "stream",
     "text": [
      "0.629634290648\n"
     ]
    }
   ],
   "source": [
    "print correlation(dischargeperformance, overallperformance)"
   ]
  },
  {
   "cell_type": "code",
   "execution_count": 249,
   "metadata": {
    "collapsed": false
   },
   "outputs": [],
   "source": [
    "features_labels = ['nurseperformance','doctorpeformance', 'painmanagementperformance', 'hospitalcleanlinesss']\n",
    "target_labels = ['overallperformance']\n",
    "features = data_formatted[features_labels]\n",
    "target = data_formatted[target_labels]"
   ]
  },
  {
   "cell_type": "code",
   "execution_count": 250,
   "metadata": {
    "collapsed": true
   },
   "outputs": [],
   "source": [
    "features_train, features_test, target_train, target_test = train_test_split(features, \n",
    "                                                                            target, test_size = 0.33, random_state = 42)"
   ]
  },
  {
   "cell_type": "code",
   "execution_count": 251,
   "metadata": {
    "collapsed": false
   },
   "outputs": [
    {
     "data": {
      "text/plain": [
       "LinearRegression(copy_X=True, fit_intercept=True, n_jobs=1, normalize=False)"
      ]
     },
     "execution_count": 251,
     "metadata": {},
     "output_type": "execute_result"
    }
   ],
   "source": [
    "lr = LinearRegression()\n",
    "lr.fit(features_train, target_train)"
   ]
  },
  {
   "cell_type": "code",
   "execution_count": 252,
   "metadata": {
    "collapsed": false
   },
   "outputs": [
    {
     "data": {
      "text/plain": [
       "array([-32.95971825])"
      ]
     },
     "execution_count": 252,
     "metadata": {},
     "output_type": "execute_result"
    }
   ],
   "source": [
    "lr.intercept_"
   ]
  },
  {
   "cell_type": "code",
   "execution_count": 253,
   "metadata": {
    "collapsed": false
   },
   "outputs": [
    {
     "data": {
      "text/plain": [
       "array([[ 0.76744182,  0.00908904,  0.36268732,  0.25986227]])"
      ]
     },
     "execution_count": 253,
     "metadata": {},
     "output_type": "execute_result"
    }
   ],
   "source": [
    "lr.coef_"
   ]
  },
  {
   "cell_type": "markdown",
   "metadata": {},
   "source": [
    "# R Squared"
   ]
  },
  {
   "cell_type": "code",
   "execution_count": 254,
   "metadata": {
    "collapsed": false
   },
   "outputs": [
    {
     "data": {
      "text/plain": [
       "0.61067214955037874"
      ]
     },
     "execution_count": 254,
     "metadata": {},
     "output_type": "execute_result"
    }
   ],
   "source": [
    "lr.score(features_test, target_test)"
   ]
  },
  {
   "cell_type": "code",
   "execution_count": 286,
   "metadata": {
    "collapsed": false
   },
   "outputs": [],
   "source": [
    "data_formatted['doctorsachievementpoints'] = data_formatted['Communication with Doctors Achievement Points'].str[:2]\n",
    "data_formatted['nursesachievementpoints'] = data_formatted['Communication with Nurses Achievement Points'].str[:2]\n",
    "data_formatted['hospitalstaffachievementpoints'] = data_formatted['Responsiveness of Hospital Staff Achievement Points'].str[:2]\n",
    "data_formatted['painmanagementachievementpoints'] = data_formatted['Pain Management Achievement Points'].str[:2]\n",
    "data_formatted['medicineachievementpoints'] = data_formatted['Communication about Medicines Achievement Points'].str[:2]\n",
    "data_formatted['cleanlinessachievementpoints'] = data_formatted['Cleanliness and Quietness of Hospital Environment Achievement Points'].str[:2]\n",
    "data_formatted['dischargeachievementpoints'] = data_formatted['Discharge Information Achievement Points'].str[:2]\n",
    "data_formatted['overallachievementpoints'] = data_formatted['Overall  Rating of Hospital Achievement Points'].str[:2]\n",
    "\n"
   ]
  },
  {
   "cell_type": "code",
   "execution_count": 287,
   "metadata": {
    "collapsed": false
   },
   "outputs": [
    {
     "data": {
      "text/html": [
       "<div>\n",
       "<table border=\"1\" class=\"dataframe\">\n",
       "  <thead>\n",
       "    <tr style=\"text-align: right;\">\n",
       "      <th></th>\n",
       "      <th>Provider Number</th>\n",
       "      <th>Hospital Name</th>\n",
       "      <th>Address</th>\n",
       "      <th>City</th>\n",
       "      <th>State</th>\n",
       "      <th>ZIP Code</th>\n",
       "      <th>County Name</th>\n",
       "      <th>Communication with Nurses Floor</th>\n",
       "      <th>Communication with Nurses Achievement Threshold</th>\n",
       "      <th>Communication with Nurses Benchmark</th>\n",
       "      <th>...</th>\n",
       "      <th>dischargeperformance</th>\n",
       "      <th>overallperformance</th>\n",
       "      <th>doctorsachievementpoints</th>\n",
       "      <th>nursesachievementpoints</th>\n",
       "      <th>hospitalstaffachievementpoints</th>\n",
       "      <th>painmanagementachievementpoints</th>\n",
       "      <th>medicineachievementpoints</th>\n",
       "      <th>cleanlinessachievementpoints</th>\n",
       "      <th>dischargeachievementpoints</th>\n",
       "      <th>overallachievementpoints</th>\n",
       "    </tr>\n",
       "  </thead>\n",
       "  <tbody>\n",
       "    <tr>\n",
       "      <th>2953</th>\n",
       "      <td>230100</td>\n",
       "      <td>TAWAS ST JOSEPH HOSPITAL</td>\n",
       "      <td>200 HEMLOCK</td>\n",
       "      <td>Tawas City</td>\n",
       "      <td>MI</td>\n",
       "      <td>48764</td>\n",
       "      <td>IOSCO</td>\n",
       "      <td>58.14</td>\n",
       "      <td>78.19</td>\n",
       "      <td>86.61</td>\n",
       "      <td>...</td>\n",
       "      <td>90.20</td>\n",
       "      <td>72.61</td>\n",
       "      <td>3</td>\n",
       "      <td>7</td>\n",
       "      <td>6</td>\n",
       "      <td>7</td>\n",
       "      <td>67</td>\n",
       "      <td>5</td>\n",
       "      <td>8</td>\n",
       "      <td>2</td>\n",
       "    </tr>\n",
       "    <tr>\n",
       "      <th>2954</th>\n",
       "      <td>260061</td>\n",
       "      <td>NEVADA REGIONAL MEDICAL CENTER</td>\n",
       "      <td>800 S ASH ST</td>\n",
       "      <td>Nevada</td>\n",
       "      <td>MO</td>\n",
       "      <td>64772</td>\n",
       "      <td>VERNON</td>\n",
       "      <td>58.14</td>\n",
       "      <td>78.19</td>\n",
       "      <td>86.61</td>\n",
       "      <td>...</td>\n",
       "      <td>83.83</td>\n",
       "      <td>69.17</td>\n",
       "      <td>1</td>\n",
       "      <td>1</td>\n",
       "      <td>4</td>\n",
       "      <td>0</td>\n",
       "      <td>68</td>\n",
       "      <td>5</td>\n",
       "      <td>0</td>\n",
       "      <td>0</td>\n",
       "    </tr>\n",
       "  </tbody>\n",
       "</table>\n",
       "<p>2 rows × 89 columns</p>\n",
       "</div>"
      ],
      "text/plain": [
       "      Provider Number                   Hospital Name       Address  \\\n",
       "2953           230100        TAWAS ST JOSEPH HOSPITAL   200 HEMLOCK   \n",
       "2954           260061  NEVADA REGIONAL MEDICAL CENTER  800 S ASH ST   \n",
       "\n",
       "            City State  ZIP Code County Name  Communication with Nurses Floor  \\\n",
       "2953  Tawas City    MI     48764       IOSCO                            58.14   \n",
       "2954      Nevada    MO     64772      VERNON                            58.14   \n",
       "\n",
       "      Communication with Nurses Achievement Threshold  \\\n",
       "2953                                            78.19   \n",
       "2954                                            78.19   \n",
       "\n",
       "      Communication with Nurses Benchmark           ...             \\\n",
       "2953                                86.61           ...              \n",
       "2954                                86.61           ...              \n",
       "\n",
       "     dischargeperformance overallperformance doctorsachievementpoints  \\\n",
       "2953                90.20              72.61                       3    \n",
       "2954                83.83              69.17                       1    \n",
       "\n",
       "     nursesachievementpoints hospitalstaffachievementpoints  \\\n",
       "2953                      7                              6    \n",
       "2954                      1                              4    \n",
       "\n",
       "      painmanagementachievementpoints  medicineachievementpoints  \\\n",
       "2953                               7                          67   \n",
       "2954                               0                          68   \n",
       "\n",
       "      cleanlinessachievementpoints dischargeachievementpoints  \\\n",
       "2953                            5                          8    \n",
       "2954                            5                          0    \n",
       "\n",
       "     overallachievementpoints  \n",
       "2953                       2   \n",
       "2954                       0   \n",
       "\n",
       "[2 rows x 89 columns]"
      ]
     },
     "execution_count": 287,
     "metadata": {},
     "output_type": "execute_result"
    }
   ],
   "source": [
    "data_formatted.tail(2)"
   ]
  },
  {
   "cell_type": "code",
   "execution_count": 294,
   "metadata": {
    "collapsed": false
   },
   "outputs": [],
   "source": [
    "data_formatted = data_formatted[data_formatted.doctorsachievementpoints.str.contains(\"No\") ==False]"
   ]
  },
  {
   "cell_type": "code",
   "execution_count": 295,
   "metadata": {
    "collapsed": true
   },
   "outputs": [],
   "source": [
    "data_formatted.doctorsachievementpoints = data_formatted.doctorsachievementpoints.astype(float)"
   ]
  },
  {
   "cell_type": "code",
   "execution_count": 296,
   "metadata": {
    "collapsed": true
   },
   "outputs": [],
   "source": [
    "data_formatted.nursesachievementpoints = data_formatted.nursesachievementpoints.astype(float)"
   ]
  },
  {
   "cell_type": "code",
   "execution_count": 297,
   "metadata": {
    "collapsed": true
   },
   "outputs": [],
   "source": [
    "data_formatted.hospitalstaffachievementpoints = data_formatted.hospitalstaffachievementpoints.astype(float)"
   ]
  },
  {
   "cell_type": "code",
   "execution_count": 298,
   "metadata": {
    "collapsed": true
   },
   "outputs": [],
   "source": [
    "data_formatted.painmanagementachievementpoints = data_formatted.painmanagementachievementpoints.astype(float)"
   ]
  },
  {
   "cell_type": "code",
   "execution_count": 299,
   "metadata": {
    "collapsed": true
   },
   "outputs": [],
   "source": [
    "data_formatted.medicineachievementpoints = data_formatted.medicineachievementpoints.astype(float)"
   ]
  },
  {
   "cell_type": "code",
   "execution_count": 300,
   "metadata": {
    "collapsed": true
   },
   "outputs": [],
   "source": [
    "data_formatted.cleanlinessachievementpoints = data_formatted.cleanlinessachievementpoints.astype(float)"
   ]
  },
  {
   "cell_type": "code",
   "execution_count": 301,
   "metadata": {
    "collapsed": true
   },
   "outputs": [],
   "source": [
    "data_formatted.dischargeachievementpoints = data_formatted.dischargeachievementpoints.astype(float)"
   ]
  },
  {
   "cell_type": "code",
   "execution_count": 302,
   "metadata": {
    "collapsed": true
   },
   "outputs": [],
   "source": [
    "data_formatted.overallachievementpoints = data_formatted.overallachievementpoints.astype(float)"
   ]
  },
  {
   "cell_type": "code",
   "execution_count": 303,
   "metadata": {
    "collapsed": true
   },
   "outputs": [],
   "source": [
    "doctorsachievementpoints = data_formatted['doctorsachievementpoints']\n",
    "nursesachievementpoints = data_formatted['nursesachievementpoints']\n",
    "hospitalstaffachievementpoints =data_formatted['hospitalstaffachievementpoints']\n",
    "painmanagementachievementpoints = data_formatted['painmanagementachievementpoints']\n",
    "medicineachievementpoints = data_formatted['medicineachievementpoints']\n",
    "cleanlinessachievementpoints = data_formatted['cleanlinessachievementpoints']\n",
    "dischargeachievementpoints = data_formatted['dischargeachievementpoints']\n",
    "overallachievementpoints = data_formatted['overallachievementpoints']"
   ]
  },
  {
   "cell_type": "code",
   "execution_count": 304,
   "metadata": {
    "collapsed": false
   },
   "outputs": [
    {
     "name": "stdout",
     "output_type": "stream",
     "text": [
      "0.539205994602\n"
     ]
    }
   ],
   "source": [
    "print correlation(doctorsachievementpoints, overallachievementpoints)"
   ]
  },
  {
   "cell_type": "code",
   "execution_count": 305,
   "metadata": {
    "collapsed": false
   },
   "outputs": [
    {
     "name": "stdout",
     "output_type": "stream",
     "text": [
      "0.714720685884\n"
     ]
    }
   ],
   "source": [
    "print correlation(nursesachievementpoints, overallachievementpoints)"
   ]
  },
  {
   "cell_type": "code",
   "execution_count": 306,
   "metadata": {
    "collapsed": false
   },
   "outputs": [
    {
     "name": "stdout",
     "output_type": "stream",
     "text": [
      "0.613735550828\n"
     ]
    }
   ],
   "source": [
    "print correlation(hospitalstaffachievementpoints, overallachievementpoints)"
   ]
  },
  {
   "cell_type": "code",
   "execution_count": 307,
   "metadata": {
    "collapsed": false
   },
   "outputs": [
    {
     "name": "stdout",
     "output_type": "stream",
     "text": [
      "0.661279459609\n"
     ]
    }
   ],
   "source": [
    "print correlation(painmanagementachievementpoints, overallachievementpoints)"
   ]
  },
  {
   "cell_type": "code",
   "execution_count": 308,
   "metadata": {
    "collapsed": false
   },
   "outputs": [
    {
     "name": "stdout",
     "output_type": "stream",
     "text": [
      "0.601888014448\n"
     ]
    }
   ],
   "source": [
    "print correlation(medicineachievementpoints, overallachievementpoints)"
   ]
  },
  {
   "cell_type": "code",
   "execution_count": 309,
   "metadata": {
    "collapsed": false
   },
   "outputs": [
    {
     "name": "stdout",
     "output_type": "stream",
     "text": [
      "0.634463624569\n"
     ]
    }
   ],
   "source": [
    "print correlation(cleanlinessachievementpoints, overallachievementpoints)"
   ]
  },
  {
   "cell_type": "code",
   "execution_count": 310,
   "metadata": {
    "collapsed": false
   },
   "outputs": [
    {
     "name": "stdout",
     "output_type": "stream",
     "text": [
      "0.525675988606\n"
     ]
    }
   ],
   "source": [
    "print correlation(dischargeachievementpoints, overallachievementpoints)"
   ]
  },
  {
   "cell_type": "code",
   "execution_count": 349,
   "metadata": {
    "collapsed": true
   },
   "outputs": [],
   "source": [
    "features_labels = ['nursesachievementpoints','painmanagementachievementpoints', 'medicineachievementpoints', 'cleanlinessachievementpoints', \n",
    "                   'dischargeachievementpoints' ]\n",
    "target_labels = ['overallachievementpoints']\n",
    "features = data_formatted[features_labels]\n",
    "target = data_formatted[target_labels]"
   ]
  },
  {
   "cell_type": "code",
   "execution_count": 350,
   "metadata": {
    "collapsed": true
   },
   "outputs": [],
   "source": [
    "features_train, features_test, target_train, target_test = train_test_split(features, \n",
    "                                                                            target, test_size = 0.33, random_state = 42)"
   ]
  },
  {
   "cell_type": "code",
   "execution_count": 351,
   "metadata": {
    "collapsed": false
   },
   "outputs": [
    {
     "data": {
      "text/plain": [
       "LinearRegression(copy_X=True, fit_intercept=True, n_jobs=1, normalize=False)"
      ]
     },
     "execution_count": 351,
     "metadata": {},
     "output_type": "execute_result"
    }
   ],
   "source": [
    "lr = LinearRegression()\n",
    "lr.fit(features_train, target_train)"
   ]
  },
  {
   "cell_type": "code",
   "execution_count": 352,
   "metadata": {
    "collapsed": false
   },
   "outputs": [
    {
     "data": {
      "text/plain": [
       "array([-1.16535299])"
      ]
     },
     "execution_count": 352,
     "metadata": {},
     "output_type": "execute_result"
    }
   ],
   "source": [
    "lr.intercept_"
   ]
  },
  {
   "cell_type": "code",
   "execution_count": 353,
   "metadata": {
    "collapsed": false
   },
   "outputs": [
    {
     "data": {
      "text/plain": [
       "array([[ 0.32005076,  0.16981493,  0.0218821 ,  0.21309457,  0.19538108]])"
      ]
     },
     "execution_count": 353,
     "metadata": {},
     "output_type": "execute_result"
    }
   ],
   "source": [
    "lr.coef_"
   ]
  },
  {
   "cell_type": "code",
   "execution_count": 354,
   "metadata": {
    "collapsed": false
   },
   "outputs": [
    {
     "data": {
      "text/plain": [
       "0.59062969037423929"
      ]
     },
     "execution_count": 354,
     "metadata": {},
     "output_type": "execute_result"
    }
   ],
   "source": [
    "lr.score(features_test, target_test)"
   ]
  }
 ],
 "metadata": {
  "anaconda-cloud": {},
  "kernelspec": {
   "display_name": "Python [default]",
   "language": "python",
   "name": "python2"
  },
  "language_info": {
   "codemirror_mode": {
    "name": "ipython",
    "version": 2
   },
   "file_extension": ".py",
   "mimetype": "text/x-python",
   "name": "python",
   "nbconvert_exporter": "python",
   "pygments_lexer": "ipython2",
   "version": "2.7.12"
  }
 },
 "nbformat": 4,
 "nbformat_minor": 1
}
