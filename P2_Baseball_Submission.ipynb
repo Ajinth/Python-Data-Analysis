{
 "cells": [
  {
   "cell_type": "markdown",
   "metadata": {},
   "source": [
    "# Introduction"
   ]
  },
  {
   "cell_type": "markdown",
   "metadata": {
    "collapsed": true
   },
   "source": [
    "The purposes of this analysis is to utilize the baseball dataset from http://www.seanlahman.com/baseball-archive/statistics/ and apply the core aspects of the data analysis process using pandas. The data analysis process focuses on the following\n",
    "1. Asking the Question or What is the Question that needs to be answered. \n",
    "2. Performing the Data Wrangling Process, to clean up and massage the data to perform further analysis. \n",
    "3. Exploring the data, to collect valuable insight. \n",
    "4. Drawing Meaningful Conclusions from the results of Exploration.  \n",
    "5. Communicating the Results of the Analysis \n",
    "\n",
    "Coming from a background in cricket, the analysis uses some of the assumptions made in cricket and applies it to the baseball paradigms (especially with respect to batting) and sees if the hypothesis or the assumptions hold true, with that in mind the analysis focusses on the following \n",
    "\n",
    "* Analyzing the \"Strikeouts\" and the \"HomeRuns\" aspects of the batters and if there is any relationship among the two batting statistics. The other questions that this analysis helps answer is whether a high strikeout for a batter is a bad thing or does it mean that the high strikeout could also mean that higher a chance of a batter clearing the field for a home run? The analysis also goes and extra step and apply a linear regression model between the dependent and the independent variable and confirms or provides positive support to the results of the co-relation analysis\n",
    "* Analyzing the \"Batting Average\" and the \"Runs Scored\" aspects of the batter. This analysis paints a different picture compared to the earlier analysis around \"Strikeouts\" and HomeRuns\". \n",
    "* On further analysis around some of the other offensive statistics to look for in batters it came across the OPS is a good metric. OPS looks at not only the ability of the batter to get to base, but also the ability of the batter to HIT. On some more thought, if OPS covers the two important aspects of batting, it made sense to ask the question as to how this co-related with the runs scored by the batter during the season. Hence this analysis was focussed on looking at the \"OPS\" and the \"Runs Scored\" and the related co-relation.\n",
    "\n",
    "*Note:* The data has been available since 1871, however given the fact that the game has evolved so much with better equipment and rules changes, it made sense to perform the analysis in the dataset post 2000"
   ]
  },
  {
   "cell_type": "markdown",
   "metadata": {},
   "source": [
    "# Coding Action\n",
    "# Importing the needed libraries and Packages"
   ]
  },
  {
   "cell_type": "code",
   "execution_count": 61,
   "metadata": {
    "collapsed": true
   },
   "outputs": [],
   "source": [
    "import pandas as pd\n",
    "import sklearn as sk\n",
    "import matplotlib.pyplot as plt\n",
    "from sklearn.cross_validation import train_test_split\n",
    "from sklearn.linear_model import LinearRegression\n",
    "import numpy as np\n",
    "from sklearn import metrics\n",
    "%matplotlib inline "
   ]
  },
  {
   "cell_type": "markdown",
   "metadata": {},
   "source": [
    "# Reading the needed files for the Analysis"
   ]
  },
  {
   "cell_type": "code",
   "execution_count": 62,
   "metadata": {
    "collapsed": false
   },
   "outputs": [],
   "source": [
    "raw_batting_df = pd.read_csv('Batting.csv')\n",
    "raw_battingpost_df = pd.read_csv('BattingPost.csv')\n",
    "raw_teams_df = pd.read_csv('Teams.csv')"
   ]
  },
  {
   "cell_type": "markdown",
   "metadata": {},
   "source": [
    "# Data Wrangling - Checking for Count of Missing AT BAT values in the Data Set\n",
    "We are going to be doing a lot of analysis based on the one of the batting statistics namely \"AT BAT\", hence in the cell below I try to see how many records in the data set has a null \"AT BAT\" value. "
   ]
  },
  {
   "cell_type": "code",
   "execution_count": 63,
   "metadata": {
    "collapsed": false
   },
   "outputs": [
    {
     "data": {
      "text/plain": [
       "5149"
      ]
     },
     "execution_count": 63,
     "metadata": {},
     "output_type": "execute_result"
    }
   ],
   "source": [
    "raw_batting_df.AB.isnull().sum()"
   ]
  },
  {
   "cell_type": "markdown",
   "metadata": {},
   "source": [
    "# Creating two functions for re-use later in the Analysis"
   ]
  },
  {
   "cell_type": "markdown",
   "metadata": {},
   "source": [
    "Function to Calculate the \"Batting Average\""
   ]
  },
  {
   "cell_type": "code",
   "execution_count": 64,
   "metadata": {
    "collapsed": true
   },
   "outputs": [],
   "source": [
    "def batting_average(hits, atbats):\n",
    "    avg = hits/atbats\n",
    "    return avg\n"
   ]
  },
  {
   "cell_type": "markdown",
   "metadata": {},
   "source": [
    "Function to Calculate Correlation between two generic values"
   ]
  },
  {
   "cell_type": "code",
   "execution_count": 65,
   "metadata": {
    "collapsed": true
   },
   "outputs": [],
   "source": [
    "def correlation(x, y):\n",
    "    std_x = (x - x.mean())/x.std(ddof=0)\n",
    "    std_y = (y - y.mean())/y.std(ddof=0)\n",
    "    correl = (std_x*std_y).mean()\n",
    "    return correl"
   ]
  },
  {
   "cell_type": "markdown",
   "metadata": {},
   "source": [
    "# Data Wrangling Step for the Regular Season Batting Data\n",
    "For the purposes of this analysis we are going to start of by looking at the batting statistics in the regular season. One of the first steps is to read the original dataframe and extract out the records we think are most relevant for the analysis. For the purposes of the analysis we are going to be considering records post year 2000 and also records that have a positive value for \"At Bats. \n",
    "\n",
    "Based on some research I did, we could also predict the values of the dependent variables from the independent variables using \"test train split\" approach that comes with the scikit package (http://scikit-learn.org/stable/modules/generated/sklearn.model_selection.train_test_split.html). This process is called imputation https://en.wikipedia.org/wiki/Imputation_(statistics). However for the purposes of this project we are not going to be doing that. That said, I have tried to give \"test train split\" approach and calculated the predicted values. I have also calculated the R Square value, which is another measure to explain the proportion of the variance in the dependent variable that is predictable from the independent variable. However these additional statistical tests where done to just cross check the results of my correlation test. "
   ]
  },
  {
   "cell_type": "code",
   "execution_count": 66,
   "metadata": {
    "collapsed": false
   },
   "outputs": [],
   "source": [
    "raw_batting_df_nonzeroab = raw_batting_df[(raw_batting_df.AB>0) & (raw_batting_df.yearID>=2000)].copy()"
   ]
  },
  {
   "cell_type": "markdown",
   "metadata": {},
   "source": [
    "# Validating the results of extraction"
   ]
  },
  {
   "cell_type": "code",
   "execution_count": 67,
   "metadata": {
    "collapsed": false
   },
   "outputs": [
    {
     "data": {
      "text/html": [
       "<div>\n",
       "<table border=\"1\" class=\"dataframe\">\n",
       "  <thead>\n",
       "    <tr style=\"text-align: right;\">\n",
       "      <th></th>\n",
       "      <th>playerID</th>\n",
       "      <th>yearID</th>\n",
       "      <th>stint</th>\n",
       "      <th>teamID</th>\n",
       "      <th>lgID</th>\n",
       "      <th>G</th>\n",
       "      <th>AB</th>\n",
       "      <th>R</th>\n",
       "      <th>H</th>\n",
       "      <th>2B</th>\n",
       "      <th>...</th>\n",
       "      <th>RBI</th>\n",
       "      <th>SB</th>\n",
       "      <th>CS</th>\n",
       "      <th>BB</th>\n",
       "      <th>SO</th>\n",
       "      <th>IBB</th>\n",
       "      <th>HBP</th>\n",
       "      <th>SH</th>\n",
       "      <th>SF</th>\n",
       "      <th>GIDP</th>\n",
       "    </tr>\n",
       "  </thead>\n",
       "  <tbody>\n",
       "    <tr>\n",
       "      <th>79248</th>\n",
       "      <td>abbotje01</td>\n",
       "      <td>2000</td>\n",
       "      <td>1</td>\n",
       "      <td>CHA</td>\n",
       "      <td>AL</td>\n",
       "      <td>80</td>\n",
       "      <td>215.0</td>\n",
       "      <td>31.0</td>\n",
       "      <td>59.0</td>\n",
       "      <td>15.0</td>\n",
       "      <td>...</td>\n",
       "      <td>29.0</td>\n",
       "      <td>2.0</td>\n",
       "      <td>1.0</td>\n",
       "      <td>21.0</td>\n",
       "      <td>38.0</td>\n",
       "      <td>1.0</td>\n",
       "      <td>2.0</td>\n",
       "      <td>2.0</td>\n",
       "      <td>1.0</td>\n",
       "      <td>2.0</td>\n",
       "    </tr>\n",
       "    <tr>\n",
       "      <th>79249</th>\n",
       "      <td>abbotku01</td>\n",
       "      <td>2000</td>\n",
       "      <td>1</td>\n",
       "      <td>NYN</td>\n",
       "      <td>NL</td>\n",
       "      <td>79</td>\n",
       "      <td>157.0</td>\n",
       "      <td>22.0</td>\n",
       "      <td>34.0</td>\n",
       "      <td>7.0</td>\n",
       "      <td>...</td>\n",
       "      <td>12.0</td>\n",
       "      <td>1.0</td>\n",
       "      <td>1.0</td>\n",
       "      <td>14.0</td>\n",
       "      <td>51.0</td>\n",
       "      <td>2.0</td>\n",
       "      <td>1.0</td>\n",
       "      <td>0.0</td>\n",
       "      <td>1.0</td>\n",
       "      <td>2.0</td>\n",
       "    </tr>\n",
       "    <tr>\n",
       "      <th>79250</th>\n",
       "      <td>abbotpa01</td>\n",
       "      <td>2000</td>\n",
       "      <td>1</td>\n",
       "      <td>SEA</td>\n",
       "      <td>AL</td>\n",
       "      <td>35</td>\n",
       "      <td>5.0</td>\n",
       "      <td>1.0</td>\n",
       "      <td>2.0</td>\n",
       "      <td>1.0</td>\n",
       "      <td>...</td>\n",
       "      <td>0.0</td>\n",
       "      <td>0.0</td>\n",
       "      <td>0.0</td>\n",
       "      <td>0.0</td>\n",
       "      <td>1.0</td>\n",
       "      <td>0.0</td>\n",
       "      <td>0.0</td>\n",
       "      <td>1.0</td>\n",
       "      <td>0.0</td>\n",
       "      <td>0.0</td>\n",
       "    </tr>\n",
       "    <tr>\n",
       "      <th>79251</th>\n",
       "      <td>abreubo01</td>\n",
       "      <td>2000</td>\n",
       "      <td>1</td>\n",
       "      <td>PHI</td>\n",
       "      <td>NL</td>\n",
       "      <td>154</td>\n",
       "      <td>576.0</td>\n",
       "      <td>103.0</td>\n",
       "      <td>182.0</td>\n",
       "      <td>42.0</td>\n",
       "      <td>...</td>\n",
       "      <td>79.0</td>\n",
       "      <td>28.0</td>\n",
       "      <td>8.0</td>\n",
       "      <td>100.0</td>\n",
       "      <td>116.0</td>\n",
       "      <td>9.0</td>\n",
       "      <td>1.0</td>\n",
       "      <td>0.0</td>\n",
       "      <td>3.0</td>\n",
       "      <td>12.0</td>\n",
       "    </tr>\n",
       "    <tr>\n",
       "      <th>79252</th>\n",
       "      <td>aceveju01</td>\n",
       "      <td>2000</td>\n",
       "      <td>1</td>\n",
       "      <td>MIL</td>\n",
       "      <td>NL</td>\n",
       "      <td>62</td>\n",
       "      <td>1.0</td>\n",
       "      <td>1.0</td>\n",
       "      <td>0.0</td>\n",
       "      <td>0.0</td>\n",
       "      <td>...</td>\n",
       "      <td>0.0</td>\n",
       "      <td>0.0</td>\n",
       "      <td>0.0</td>\n",
       "      <td>1.0</td>\n",
       "      <td>1.0</td>\n",
       "      <td>0.0</td>\n",
       "      <td>0.0</td>\n",
       "      <td>0.0</td>\n",
       "      <td>0.0</td>\n",
       "      <td>0.0</td>\n",
       "    </tr>\n",
       "  </tbody>\n",
       "</table>\n",
       "<p>5 rows × 22 columns</p>\n",
       "</div>"
      ],
      "text/plain": [
       "        playerID  yearID  stint teamID lgID    G     AB      R      H    2B  \\\n",
       "79248  abbotje01    2000      1    CHA   AL   80  215.0   31.0   59.0  15.0   \n",
       "79249  abbotku01    2000      1    NYN   NL   79  157.0   22.0   34.0   7.0   \n",
       "79250  abbotpa01    2000      1    SEA   AL   35    5.0    1.0    2.0   1.0   \n",
       "79251  abreubo01    2000      1    PHI   NL  154  576.0  103.0  182.0  42.0   \n",
       "79252  aceveju01    2000      1    MIL   NL   62    1.0    1.0    0.0   0.0   \n",
       "\n",
       "       ...    RBI    SB   CS     BB     SO  IBB  HBP   SH   SF  GIDP  \n",
       "79248  ...   29.0   2.0  1.0   21.0   38.0  1.0  2.0  2.0  1.0   2.0  \n",
       "79249  ...   12.0   1.0  1.0   14.0   51.0  2.0  1.0  0.0  1.0   2.0  \n",
       "79250  ...    0.0   0.0  0.0    0.0    1.0  0.0  0.0  1.0  0.0   0.0  \n",
       "79251  ...   79.0  28.0  8.0  100.0  116.0  9.0  1.0  0.0  3.0  12.0  \n",
       "79252  ...    0.0   0.0  0.0    1.0    1.0  0.0  0.0  0.0  0.0   0.0  \n",
       "\n",
       "[5 rows x 22 columns]"
      ]
     },
     "execution_count": 67,
     "metadata": {},
     "output_type": "execute_result"
    }
   ],
   "source": [
    "raw_batting_df_nonzeroab.head(5)"
   ]
  },
  {
   "cell_type": "markdown",
   "metadata": {},
   "source": [
    "# Analysis 1:  \"Strike Outs\" v/s \"Home Runs\" Relationship and What it Means\n",
    "Coming from a cricketing background, strikeout is referred to as a the batsman getting out. In cricket it is called as getting out. A homerun on the other side is a good thing for a batsman. That said, batters who have a high strikeout rate it might not always be a bad thing. It might just mean that they are very aggressive batters and are willing to take the risk of giving the ball a good hit and send it a long distance and in the process there are occasions when they strikeout, contributing to their high strike rate. On the flipside they could also be racking up some high Homeruns during the season. Hence when coaches look at the Strikeout statistics for certain players in the team it might make sense to see it in correlation with the other positive batting statistics and see if there is any sort of correlation \n",
    "\t\n",
    "The purpose of the analysis is to look at the correlation between batsman Strikeouts and Home Runs. For this analysis we are going to be using the Home Runs scored as the dependent variable along Y, and the Strikeouts along the independent variable along X. \n",
    "  "
   ]
  },
  {
   "cell_type": "markdown",
   "metadata": {},
   "source": [
    "Calculating the Correlation between Home Runs and Strikeouts by feeding in the strikeouts and homerun data into the earlier function that was created"
   ]
  },
  {
   "cell_type": "code",
   "execution_count": 68,
   "metadata": {
    "collapsed": false
   },
   "outputs": [
    {
     "name": "stdout",
     "output_type": "stream",
     "text": [
      "0.830856261048\n"
     ]
    }
   ],
   "source": [
    "strike_outs = raw_batting_df_nonzeroab['SO']\n",
    "home_runs = raw_batting_df_nonzeroab['HR']\n",
    "print correlation(home_runs,strike_outs)"
   ]
  },
  {
   "cell_type": "markdown",
   "metadata": {},
   "source": [
    "# Scatter plot between Strike outs and Home Runs "
   ]
  },
  {
   "cell_type": "code",
   "execution_count": 69,
   "metadata": {
    "collapsed": false
   },
   "outputs": [
    {
     "data": {
      "text/plain": [
       "<matplotlib.text.Text at 0xc42b128>"
      ]
     },
     "execution_count": 69,
     "metadata": {},
     "output_type": "execute_result"
    },
    {
     "data": {
      "image/png": "[encoded data removed]",
      "text/plain": [
       "<matplotlib.figure.Figure at 0xbb310b8>"
      ]
     },
     "metadata": {},
     "output_type": "display_data"
    }
   ],
   "source": [
    "plt.scatter(x=strike_outs,y=home_runs, color='Green')\n",
    "plt.xlabel('Strike Outs')\n",
    "plt.ylabel('Home Runs')"
   ]
  },
  {
   "cell_type": "markdown",
   "metadata": {},
   "source": [
    "# Performing Linear Regression on Strike outs (Independent Variable) and Home Runs (Dependent Variable Y) "
   ]
  },
  {
   "cell_type": "markdown",
   "metadata": {},
   "source": [
    "Define features and target"
   ]
  },
  {
   "cell_type": "code",
   "execution_count": 70,
   "metadata": {
    "collapsed": true
   },
   "outputs": [],
   "source": [
    "features_labels = ['SO']\n",
    "target_labels = ['HR']\n",
    "features = raw_batting_df_nonzeroab[features_labels]\n",
    "target = raw_batting_df_nonzeroab[target_labels]"
   ]
  },
  {
   "cell_type": "markdown",
   "metadata": {},
   "source": [
    "Using train_test_split, create training and test subgroups of your data"
   ]
  },
  {
   "cell_type": "code",
   "execution_count": 71,
   "metadata": {
    "collapsed": false
   },
   "outputs": [],
   "source": [
    "\n",
    "features_train, features_test, target_train, target_test = train_test_split(features, \n",
    "                                                                            target, test_size = 0.33, random_state = 42)"
   ]
  },
  {
   "cell_type": "markdown",
   "metadata": {},
   "source": [
    "Performing Linear Regresion"
   ]
  },
  {
   "cell_type": "code",
   "execution_count": 72,
   "metadata": {
    "collapsed": false
   },
   "outputs": [
    {
     "data": {
      "text/plain": [
       "LinearRegression(copy_X=True, fit_intercept=True, n_jobs=1, normalize=False)"
      ]
     },
     "execution_count": 72,
     "metadata": {},
     "output_type": "execute_result"
    }
   ],
   "source": [
    "lr = LinearRegression()\n",
    "lr.fit(features_train, target_train)"
   ]
  },
  {
   "cell_type": "code",
   "execution_count": 73,
   "metadata": {
    "collapsed": false
   },
   "outputs": [
    {
     "data": {
      "text/plain": [
       "array([-1.03990906])"
      ]
     },
     "execution_count": 73,
     "metadata": {},
     "output_type": "execute_result"
    }
   ],
   "source": [
    "lr.intercept_"
   ]
  },
  {
   "cell_type": "code",
   "execution_count": 74,
   "metadata": {
    "collapsed": false
   },
   "outputs": [
    {
     "data": {
      "text/plain": [
       "array([[ 0.17988226]])"
      ]
     },
     "execution_count": 74,
     "metadata": {},
     "output_type": "execute_result"
    }
   ],
   "source": [
    "lr.coef_"
   ]
  },
  {
   "cell_type": "markdown",
   "metadata": {},
   "source": [
    "Calculating R Square Error "
   ]
  },
  {
   "cell_type": "code",
   "execution_count": 75,
   "metadata": {
    "collapsed": false
   },
   "outputs": [
    {
     "data": {
      "text/plain": [
       "0.69902010066465037"
      ]
     },
     "execution_count": 75,
     "metadata": {},
     "output_type": "execute_result"
    }
   ],
   "source": [
    "lr.score(features_test, target_test)"
   ]
  },
  {
   "cell_type": "markdown",
   "metadata": {},
   "source": [
    "Calculating Root Mean Square "
   ]
  },
  {
   "cell_type": "code",
   "execution_count": 76,
   "metadata": {
    "collapsed": false
   },
   "outputs": [
    {
     "data": {
      "text/plain": [
       "4.5987759342055154"
      ]
     },
     "execution_count": 76,
     "metadata": {},
     "output_type": "execute_result"
    }
   ],
   "source": [
    "target_pred = lr.predict(features_test)\n",
    "np.sqrt(metrics.mean_squared_error(target_test, target_pred))"
   ]
  },
  {
   "cell_type": "markdown",
   "metadata": {},
   "source": [
    "Making Predictions on the Model to get the Predicted Values"
   ]
  },
  {
   "cell_type": "code",
   "execution_count": 77,
   "metadata": {
    "collapsed": false
   },
   "outputs": [],
   "source": [
    "target_pred = lr.predict(features_test)\n",
    "#Comment out the line below to see the targer predicted values based on the linear regression model\n",
    "# zip(target_pred, target_test.HR)"
   ]
  },
  {
   "cell_type": "markdown",
   "metadata": {},
   "source": [
    "# Conclusion -  \"Strike Outs\" v/s \"Home Runs\" Relationship and What it Means"
   ]
  },
  {
   "cell_type": "markdown",
   "metadata": {},
   "source": [
    "The analysis presents that there is a 83% percent co-relation between \"Strike Outs\" and \"Home Runs\", which probably tells a story that a strikeouts and homeruns move together in the positive direction. Hence only looking at the \"Strikeouts\" stats for a batter while judging his performance might not be a good indicator.It probably needs to be looked into conjunction with other batting stats and evaluated appropriately.\n",
    "\n",
    "We also tried to validate the results of the correlation using another stastical test and calculated the R square value. The R Square for our test was 69.9%. The value for R Square can be between 0 and 100%. \n",
    "\n",
    "0% indicates that the model explains none of the variability of the response data around its mean.100% indicates that the model explains all the variability of the response data around its mean. Our number of 69.9 (~70%) indicates that the model explains the variability of the predicted data around 70% of the time. "
   ]
  },
  {
   "cell_type": "markdown",
   "metadata": {},
   "source": [
    "# Analysis 2:  \"Batting Average\" v/s \"Runs Scored\" and what it means\n",
    "For someone like me who is trying to learn baseball from the heels of a very similar game in cricket,  the batting average is a huge statistic in cricket and in most cases a high batting average in a season more or less means high number of runs scored. The analysis looks at whether batting average is a good measure of the runs scored by a batsman. Ideally speaking (and also based on my experience with following stats in Cricket), a high batting average generally means the batsman is an above average batsman, which should almost always translate to the runs scored. \n",
    "\t\n",
    "The purpose of the analysis is to review the correlation between the runs scored by batsman (provided as a part of the dataset) and the batting average, that is yet to be computed based on the data provided. For this analysis I am going to be using runs scored as a the dependent variable along Y, and the calculated batting average as the independent variable along X "
   ]
  },
  {
   "cell_type": "markdown",
   "metadata": {},
   "source": [
    "# Data Wrangling - Batting Average"
   ]
  },
  {
   "cell_type": "markdown",
   "metadata": {},
   "source": [
    "Calculating the batting average using the \"Home Runs\" and \"At Bats\". \n",
    "\n",
    "We are using the vectorized operation (np.vectorize) to calculate the batting average for each record in the dataframe"
   ]
  },
  {
   "cell_type": "code",
   "execution_count": 78,
   "metadata": {
    "collapsed": false
   },
   "outputs": [],
   "source": [
    "raw_batting_df_nonzeroab['batting_average'] = np.vectorize(batting_average)(raw_batting_df_nonzeroab['H'], \n",
    "                                                                            raw_batting_df_nonzeroab['AB'])"
   ]
  },
  {
   "cell_type": "code",
   "execution_count": 79,
   "metadata": {
    "collapsed": false
   },
   "outputs": [
    {
     "name": "stdout",
     "output_type": "stream",
     "text": [
      "0.385814905693\n"
     ]
    }
   ],
   "source": [
    "batting_avg = raw_batting_df_nonzeroab['batting_average']\n",
    "runs_scored = raw_batting_df_nonzeroab['R']\n",
    "print correlation(batting_avg,runs_scored)"
   ]
  },
  {
   "cell_type": "markdown",
   "metadata": {},
   "source": [
    "# Scatter plot between Batting Average and Runs Scored"
   ]
  },
  {
   "cell_type": "code",
   "execution_count": 80,
   "metadata": {
    "collapsed": false
   },
   "outputs": [
    {
     "data": {
      "text/plain": [
       "<matplotlib.text.Text at 0x125f49e8>"
      ]
     },
     "execution_count": 80,
     "metadata": {},
     "output_type": "execute_result"
    },
    {
     "data": {
      "image/png": "[encoded data removed]",
      "text/plain": [
       "<matplotlib.figure.Figure at 0xbfb1668>"
      ]
     },
     "metadata": {},
     "output_type": "display_data"
    }
   ],
   "source": [
    "plt.scatter(x=batting_avg,y=runs_scored, color='Green')\n",
    "plt.xlabel('Batting Average')\n",
    "plt.ylabel('Runs Scored')"
   ]
  },
  {
   "cell_type": "markdown",
   "metadata": {},
   "source": [
    " # Conclusion - \"Batting Average\" and \"Runs  Scored\" and what it means"
   ]
  },
  {
   "cell_type": "markdown",
   "metadata": {},
   "source": [
    "The analysis presents a 38% percent correlation between \"Batting Average\" and \"Home Runs\". As a general rule of thumb and based on referencing the material in https://explorable.com/statistical-correlation, for the purposes of our analysis we can assume that \"Batting Average\" and \"Home Runs\" have a very weak relationship. \n",
    "\n",
    "Hence we should look to analyze some other batting statistics to see the batter efficiency. For the purposes of this project I am not doing further linear regression as performed in the other data set"
   ]
  },
  {
   "cell_type": "markdown",
   "metadata": {},
   "source": [
    "# Analysis 3: Does a high OPS always translate to Higher Runs being Scored by the Team? \n",
    "\n",
    "A lot of baseball statisticians are not a big fan of the traditional batting statistics (e.g. Batting Average,RBI) to evaluate the value of a batter). OPS was created to evaluate the ability of the player to get to bases and the powwer of the batter to get the needed hits. It is fair to assume the the players with high OPS would contribute heavily to the teams runs scored. The purpose of this analysis is to review that hypothesis. \n"
   ]
  },
  {
   "cell_type": "markdown",
   "metadata": {},
   "source": [
    "# Making a copy of the Teams Data Frame to Include Data Post 2000"
   ]
  },
  {
   "cell_type": "code",
   "execution_count": 81,
   "metadata": {
    "collapsed": false
   },
   "outputs": [],
   "source": [
    "teams_df = raw_teams_df[(raw_teams_df.yearID>=2000)].copy()\n",
    "# teams_df.head()"
   ]
  },
  {
   "cell_type": "markdown",
   "metadata": {},
   "source": [
    "# Fixing the data type on for \"AT BATS\", \"Hits\" & \"Base on Balls\" as Float (Earlier it was set to Integer) "
   ]
  },
  {
   "cell_type": "code",
   "execution_count": 82,
   "metadata": {
    "collapsed": false
   },
   "outputs": [],
   "source": [
    "teams_df.AB = teams_df.AB.astype(float)\n",
    "teams_df.H = teams_df.H.astype(float)\n",
    "teams_df.BB = teams_df.BB.astype(float)"
   ]
  },
  {
   "cell_type": "code",
   "execution_count": 83,
   "metadata": {
    "collapsed": false
   },
   "outputs": [
    {
     "data": {
      "text/html": [
       "<div>\n",
       "<table border=\"1\" class=\"dataframe\">\n",
       "  <thead>\n",
       "    <tr style=\"text-align: right;\">\n",
       "      <th></th>\n",
       "      <th>yearID</th>\n",
       "      <th>lgID</th>\n",
       "      <th>teamID</th>\n",
       "      <th>franchID</th>\n",
       "      <th>divID</th>\n",
       "      <th>Rank</th>\n",
       "      <th>G</th>\n",
       "      <th>Ghome</th>\n",
       "      <th>W</th>\n",
       "      <th>L</th>\n",
       "      <th>...</th>\n",
       "      <th>DP</th>\n",
       "      <th>FP</th>\n",
       "      <th>name</th>\n",
       "      <th>park</th>\n",
       "      <th>attendance</th>\n",
       "      <th>BPF</th>\n",
       "      <th>PPF</th>\n",
       "      <th>teamIDBR</th>\n",
       "      <th>teamIDlahman45</th>\n",
       "      <th>teamIDretro</th>\n",
       "    </tr>\n",
       "  </thead>\n",
       "  <tbody>\n",
       "    <tr>\n",
       "      <th>2325</th>\n",
       "      <td>2000</td>\n",
       "      <td>AL</td>\n",
       "      <td>ANA</td>\n",
       "      <td>ANA</td>\n",
       "      <td>W</td>\n",
       "      <td>3</td>\n",
       "      <td>162</td>\n",
       "      <td>81.0</td>\n",
       "      <td>82</td>\n",
       "      <td>80</td>\n",
       "      <td>...</td>\n",
       "      <td>182.0</td>\n",
       "      <td>0.978</td>\n",
       "      <td>Anaheim Angels</td>\n",
       "      <td>Edison International Field</td>\n",
       "      <td>2066982.0</td>\n",
       "      <td>102</td>\n",
       "      <td>103</td>\n",
       "      <td>ANA</td>\n",
       "      <td>ANA</td>\n",
       "      <td>ANA</td>\n",
       "    </tr>\n",
       "    <tr>\n",
       "      <th>2326</th>\n",
       "      <td>2000</td>\n",
       "      <td>NL</td>\n",
       "      <td>ARI</td>\n",
       "      <td>ARI</td>\n",
       "      <td>W</td>\n",
       "      <td>3</td>\n",
       "      <td>162</td>\n",
       "      <td>81.0</td>\n",
       "      <td>85</td>\n",
       "      <td>77</td>\n",
       "      <td>...</td>\n",
       "      <td>138.0</td>\n",
       "      <td>0.982</td>\n",
       "      <td>Arizona Diamondbacks</td>\n",
       "      <td>Bank One Ballpark</td>\n",
       "      <td>2942251.0</td>\n",
       "      <td>105</td>\n",
       "      <td>103</td>\n",
       "      <td>ARI</td>\n",
       "      <td>ARI</td>\n",
       "      <td>ARI</td>\n",
       "    </tr>\n",
       "    <tr>\n",
       "      <th>2327</th>\n",
       "      <td>2000</td>\n",
       "      <td>NL</td>\n",
       "      <td>ATL</td>\n",
       "      <td>ATL</td>\n",
       "      <td>E</td>\n",
       "      <td>1</td>\n",
       "      <td>162</td>\n",
       "      <td>81.0</td>\n",
       "      <td>95</td>\n",
       "      <td>67</td>\n",
       "      <td>...</td>\n",
       "      <td>138.0</td>\n",
       "      <td>0.979</td>\n",
       "      <td>Atlanta Braves</td>\n",
       "      <td>Turner Field</td>\n",
       "      <td>3234304.0</td>\n",
       "      <td>101</td>\n",
       "      <td>99</td>\n",
       "      <td>ATL</td>\n",
       "      <td>ATL</td>\n",
       "      <td>ATL</td>\n",
       "    </tr>\n",
       "    <tr>\n",
       "      <th>2328</th>\n",
       "      <td>2000</td>\n",
       "      <td>AL</td>\n",
       "      <td>BAL</td>\n",
       "      <td>BAL</td>\n",
       "      <td>E</td>\n",
       "      <td>4</td>\n",
       "      <td>162</td>\n",
       "      <td>81.0</td>\n",
       "      <td>74</td>\n",
       "      <td>88</td>\n",
       "      <td>...</td>\n",
       "      <td>151.0</td>\n",
       "      <td>0.981</td>\n",
       "      <td>Baltimore Orioles</td>\n",
       "      <td>Oriole Park at Camden Yards</td>\n",
       "      <td>3297031.0</td>\n",
       "      <td>95</td>\n",
       "      <td>96</td>\n",
       "      <td>BAL</td>\n",
       "      <td>BAL</td>\n",
       "      <td>BAL</td>\n",
       "    </tr>\n",
       "    <tr>\n",
       "      <th>2329</th>\n",
       "      <td>2000</td>\n",
       "      <td>AL</td>\n",
       "      <td>BOS</td>\n",
       "      <td>BOS</td>\n",
       "      <td>E</td>\n",
       "      <td>2</td>\n",
       "      <td>162</td>\n",
       "      <td>81.0</td>\n",
       "      <td>85</td>\n",
       "      <td>77</td>\n",
       "      <td>...</td>\n",
       "      <td>120.0</td>\n",
       "      <td>0.982</td>\n",
       "      <td>Boston Red Sox</td>\n",
       "      <td>Fenway Park II</td>\n",
       "      <td>2585895.0</td>\n",
       "      <td>104</td>\n",
       "      <td>103</td>\n",
       "      <td>BOS</td>\n",
       "      <td>BOS</td>\n",
       "      <td>BOS</td>\n",
       "    </tr>\n",
       "  </tbody>\n",
       "</table>\n",
       "<p>5 rows × 48 columns</p>\n",
       "</div>"
      ],
      "text/plain": [
       "      yearID lgID teamID franchID divID  Rank    G  Ghome   W   L  \\\n",
       "2325    2000   AL    ANA      ANA     W     3  162   81.0  82  80   \n",
       "2326    2000   NL    ARI      ARI     W     3  162   81.0  85  77   \n",
       "2327    2000   NL    ATL      ATL     E     1  162   81.0  95  67   \n",
       "2328    2000   AL    BAL      BAL     E     4  162   81.0  74  88   \n",
       "2329    2000   AL    BOS      BOS     E     2  162   81.0  85  77   \n",
       "\n",
       "         ...          DP     FP                  name  \\\n",
       "2325     ...       182.0  0.978        Anaheim Angels   \n",
       "2326     ...       138.0  0.982  Arizona Diamondbacks   \n",
       "2327     ...       138.0  0.979        Atlanta Braves   \n",
       "2328     ...       151.0  0.981     Baltimore Orioles   \n",
       "2329     ...       120.0  0.982        Boston Red Sox   \n",
       "\n",
       "                             park  attendance  BPF  PPF  teamIDBR  \\\n",
       "2325   Edison International Field   2066982.0  102  103       ANA   \n",
       "2326            Bank One Ballpark   2942251.0  105  103       ARI   \n",
       "2327                 Turner Field   3234304.0  101   99       ATL   \n",
       "2328  Oriole Park at Camden Yards   3297031.0   95   96       BAL   \n",
       "2329               Fenway Park II   2585895.0  104  103       BOS   \n",
       "\n",
       "      teamIDlahman45  teamIDretro  \n",
       "2325             ANA          ANA  \n",
       "2326             ARI          ARI  \n",
       "2327             ATL          ATL  \n",
       "2328             BAL          BAL  \n",
       "2329             BOS          BOS  \n",
       "\n",
       "[5 rows x 48 columns]"
      ]
     },
     "execution_count": 83,
     "metadata": {},
     "output_type": "execute_result"
    }
   ],
   "source": [
    "teams_df.head(5)"
   ]
  },
  {
   "cell_type": "markdown",
   "metadata": {},
   "source": [
    "# Prior to calculating the OPS, a few other data points needs to be created. The next couple of  cells calculates the intermediate data points before calculating the value for OPS "
   ]
  },
  {
   "cell_type": "markdown",
   "metadata": {},
   "source": [
    "# Calculating 1B"
   ]
  },
  {
   "cell_type": "code",
   "execution_count": 84,
   "metadata": {
    "collapsed": false
   },
   "outputs": [],
   "source": [
    "teams_df['1B'] = teams_df['H'] - teams_df['2B'] - teams_df['3B'] - teams_df['HR']"
   ]
  },
  {
   "cell_type": "markdown",
   "metadata": {},
   "source": [
    "# Calculating Total Bases"
   ]
  },
  {
   "cell_type": "markdown",
   "metadata": {},
   "source": [
    "Total bases (TBs) is the number of bases a player has gained with hits. It is a weighted sum for which the weight value is 1 for a single, 2 for a double, 3 for a triple and 4 for a home run. Only bases attained from hits count toward this total."
   ]
  },
  {
   "cell_type": "code",
   "execution_count": 85,
   "metadata": {
    "collapsed": false
   },
   "outputs": [],
   "source": [
    "teams_df['TB'] = (teams_df['1B'] + (2*teams_df['2B']) + (3*teams_df['3B']) + (4*teams_df['HR']))"
   ]
  },
  {
   "cell_type": "markdown",
   "metadata": {},
   "source": [
    "# Calculating Slugging Percentage"
   ]
  },
  {
   "cell_type": "markdown",
   "metadata": {},
   "source": [
    "Slugging percentage(abbreviated SLG) is a popular measure of the power of a hitter. It is calculated as total bases divided by at bats: where AB is the number of at-bats for a given player, and 1B, 2B, 3B, and HR are the number of singles, doubles, triples, and home runs, respectively."
   ]
  },
  {
   "cell_type": "code",
   "execution_count": 86,
   "metadata": {
    "collapsed": true
   },
   "outputs": [],
   "source": [
    "teams_df['SLG'] = teams_df['TB']/teams_df['AB']"
   ]
  },
  {
   "cell_type": "markdown",
   "metadata": {},
   "source": [
    "# Calculating Onbase Percentage "
   ]
  },
  {
   "cell_type": "markdown",
   "metadata": {},
   "source": [
    "Onbase Percentage is measure of how often a batter reaches base for any reason other than a fielding error, fielder's choice, dropped/uncaught third strike, fielder's obstruction, or catcher's interference"
   ]
  },
  {
   "cell_type": "code",
   "execution_count": 87,
   "metadata": {
    "collapsed": true
   },
   "outputs": [],
   "source": [
    "teams_df['OBP'] = ((teams_df['H'] + teams_df['BB'] + teams_df['HBP'])/(teams_df['AB']+ teams_df['BB'] + teams_df['SF'] +\n",
    "                                                                     teams_df['HBP']))"
   ]
  },
  {
   "cell_type": "markdown",
   "metadata": {},
   "source": [
    "# Calculating Onbase Plus Slugging (OPS) "
   ]
  },
  {
   "cell_type": "markdown",
   "metadata": {},
   "source": [
    "OPS adds on-base percentage and slugging percentage to get one number that unites the two. It's meant to combine how well a hitter can reach base, with how well he can hit for average and for power. As a result, OPS is widely considered one of the best evaluative tools for hitters."
   ]
  },
  {
   "cell_type": "code",
   "execution_count": 88,
   "metadata": {
    "collapsed": false
   },
   "outputs": [],
   "source": [
    "teams_df['OPS'] = teams_df['OBP'] + teams_df['SLG']"
   ]
  },
  {
   "cell_type": "code",
   "execution_count": 89,
   "metadata": {
    "collapsed": false
   },
   "outputs": [],
   "source": [
    "runs = teams_df['R']\n",
    "ops =  teams_df['OPS']"
   ]
  },
  {
   "cell_type": "code",
   "execution_count": 90,
   "metadata": {
    "collapsed": false
   },
   "outputs": [
    {
     "name": "stdout",
     "output_type": "stream",
     "text": [
      "0.955407042704\n"
     ]
    }
   ],
   "source": [
    "print correlation (runs, ops)"
   ]
  },
  {
   "cell_type": "markdown",
   "metadata": {
    "collapsed": true
   },
   "source": [
    "# Conclusion: Does a high OPS always translate to Higher Runs being Scored by the Team?"
   ]
  },
  {
   "cell_type": "markdown",
   "metadata": {},
   "source": [
    "There is a high degree of positive corelation between OPS and Runs Scored. Hence we can safely assume that teams whose batters would have a high OPS would result in the respective teams having higher runs scored. We could also apply the linear regression as performed in the first analysis to further confirm this theory and calculating the R Squared value. This conclusion by no means states that OPS is the one and only offensive statistics. Recently another good batting statistics that has been thrown around and used a lot is the Weighted On Base Average (WOBA). https://en.wikipedia.org/wiki/WOBA"
   ]
  },
  {
   "cell_type": "markdown",
   "metadata": {},
   "source": [
    "## References\n",
    "* http://sabr.org/sabermetrics\n",
    "* https://www.uu.edu/dept/math/SeniorPapers/01-02/Patterson.pdf\n",
    "* http://m.mlb.com/glossary/standard-stats/on-base-plus-slugging\n",
    "* http://myyouthbaseball.com/understanding-using-baseball-statistics.html\n",
    "* http://www.fangraphs.com/library/offense/ops/\n",
    "* http://www.eg.bucknell.edu/~bvollmay/baseball/runs1.html\n",
    "* https://www.uu.edu/dept/math/SeniorPapers/01-02/Patterson.pdf - Refer this \n",
    "* http://blog.yhat.com/posts/scraping-and-analyzing-baseball-data-with-r.html\n",
    "* http://digitalcommons.calpoly.edu/cgi/viewcontent.cgi?article=1000&context=statsp\n",
    "* http://thesportjournal.org/article/an-examination-of-the-moneyball-theory-a-baseball-statistical-analysis/\n",
    "* http://emeyers.scripts.mit.edu/emeyers/teaching/cs-0149-introduction-to-statistics-through-baseball/ - \n",
    "* https://books.google.com/books?id=1mNZfyil2ecC&pg=PA3&lpg=PA3&dq=what+baseball+statistics+to+statisticians+look+for&source=bl&ots=oY5ykZna04&sig=zvkhx9C0vMghwz-xHxguatZFgnk&hl=en&sa=X&ved=0ahUKEwiQr_7cte_QAhVqzVQKHdehAko4ChDoAQgfMAE#v=onepage&q=what%20baseball%20statistics%20to%20statisticians%20look%20for&f=true\n",
    "* http://www.predictem.com/mlb/stats.php\n"
   ]
  },
  {
   "cell_type": "code",
   "execution_count": null,
   "metadata": {
    "collapsed": true
   },
   "outputs": [],
   "source": []
  }
 ],
 "metadata": {
  "anaconda-cloud": {},
  "kernelspec": {
   "display_name": "Python [default]",
   "language": "python",
   "name": "python2"
  },
  "language_info": {
   "codemirror_mode": {
    "name": "ipython",
    "version": 2
   },
   "file_extension": ".py",
   "mimetype": "text/x-python",
   "name": "python",
   "nbconvert_exporter": "python",
   "pygments_lexer": "ipython2",
   "version": "2.7.12"
  }
 },
 "nbformat": 4,
 "nbformat_minor": 1
}
