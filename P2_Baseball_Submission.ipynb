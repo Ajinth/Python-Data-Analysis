{
 "cells": [
  {
   "cell_type": "markdown",
   "metadata": {},
   "source": [
    "# Introduction"
   ]
  },
  {
   "cell_type": "markdown",
   "metadata": {
    "collapsed": true
   },
   "source": [
    "The purposes of this analysis is to utilize the baseball dataset from http://www.seanlahman.com/baseball-archive/statistics/ and apply the core aspects of the data analysis process using pandas. The data analysis process focuses on the following\n",
    "1. Asking the Question or what is the Question that needs to be answered. \n",
    "2. Performing the Data Wrangling Process, to clean up and massage the data to perform further analysis. \n",
    "3. Exploring the data, to collect valuable insight. \n",
    "4. Drawing Meaningful Conclusions from the results of Exploration.  \n",
    "5. Communicating the Results of the Analysis \n",
    "\n",
    "Coming from a background in cricket, the analysis uses some of the assumptions made in cricket and applies it to the baseball paradigms (especially with respect to batting) and sees if the hypothesis or the assumptions hold true, with that in mind the analysis focusses on the following \n",
    "\n",
    "* Analyzing the \"Strikeouts\" and the \"HomeRuns\" aspects of the batters and if there is any relationship among the two batting statistics. The other questions that this analysis helps answer is whether a high strikeout for a batter is a bad thing or does it mean that the high strikeout could also mean that higher a chance of a batter clearing the field for a home run? The analysis also goes the extra step and applies a linear regression model between the dependent and the independent variable and confirms or provides support to the results of the co-relation analysis\n",
    "* Analyzing the \"Batting Average\" and the \"Runs Scored\" aspects of the batter. This analysis paints a different picture compared to the earlier analysis around \"Strikeouts\" and HomeRuns\". \n",
    "* On further analysis around some of the other offensive statistics to look for in batters it came across the OPS is a good metric. OPS looks at not only the ability of the batter to get to base, but also the ability of the batter to HIT. On some more thought, if OPS covers the two important aspects of batting, it made sense to ask the question as to how this co-related with the runs scored by the batter during the season. Hence this analysis was focussed on looking at the \"OPS\" and the \"Runs Scored\" and the related co-relation.\n",
    "\n",
    "*Note:* The data has been available since 1871, however given the fact that the game has evolved so much with better equipment and rules changes, it made sense to perform the analysis in the dataset post 2000"
   ]
  },
  {
   "cell_type": "markdown",
   "metadata": {},
   "source": [
    "# Coding Action\n",
    "# Importing the needed libraries and Packages"
   ]
  },
  {
   "cell_type": "code",
   "execution_count": 482,
   "metadata": {
    "collapsed": false
   },
   "outputs": [],
   "source": [
    "import pandas as pd\n",
    "import sklearn as sk\n",
    "import matplotlib.pyplot as plt\n",
    "from sklearn.cross_validation import train_test_split\n",
    "from sklearn.linear_model import LinearRegression\n",
    "import numpy as np\n",
    "from sklearn import metrics\n",
    "%matplotlib inline "
   ]
  },
  {
   "cell_type": "markdown",
   "metadata": {},
   "source": [
    "# Reading the needed files for the Analysis"
   ]
  },
  {
   "cell_type": "code",
   "execution_count": 483,
   "metadata": {
    "collapsed": false
   },
   "outputs": [],
   "source": [
    "raw_batting_df = pd.read_csv('Batting.csv')\n",
    "raw_battingpost_df = pd.read_csv('BattingPost.csv')\n",
    "raw_teams_df = pd.read_csv('Teams.csv')"
   ]
  },
  {
   "cell_type": "markdown",
   "metadata": {},
   "source": [
    "# Data Wrangling - Checking for Count of Missing AT BAT values in the Data Set\n",
    "We are going to be doing a lot of analysis based on the one of the batting statistics namely \"AT BAT\", hence in the cell below I try to see how many records in the data set has a null \"AT BAT\" value. "
   ]
  },
  {
   "cell_type": "code",
   "execution_count": 484,
   "metadata": {
    "collapsed": false
   },
   "outputs": [
    {
     "data": {
      "text/plain": [
       "5149"
      ]
     },
     "execution_count": 484,
     "metadata": {},
     "output_type": "execute_result"
    }
   ],
   "source": [
    "raw_batting_df.AB.isnull().sum()"
   ]
  },
  {
   "cell_type": "markdown",
   "metadata": {},
   "source": [
    "# Creating two functions for re-use later in the Analysis"
   ]
  },
  {
   "cell_type": "markdown",
   "metadata": {},
   "source": [
    "Function to Calculate the \"Batting Average\""
   ]
  },
  {
   "cell_type": "code",
   "execution_count": 485,
   "metadata": {
    "collapsed": true
   },
   "outputs": [],
   "source": [
    "def batting_average(hits, atbats):\n",
    "    avg = hits/atbats\n",
    "    return avg\n"
   ]
  },
  {
   "cell_type": "markdown",
   "metadata": {},
   "source": [
    "Function to Calculate Correlation between two generic values"
   ]
  },
  {
   "cell_type": "code",
   "execution_count": 486,
   "metadata": {
    "collapsed": true
   },
   "outputs": [],
   "source": [
    "def correlation(x, y):\n",
    "    std_x = (x - x.mean())/x.std(ddof=0)\n",
    "    std_y = (y - y.mean())/y.std(ddof=0)\n",
    "    correl = (std_x*std_y).mean()\n",
    "    return correl"
   ]
  },
  {
   "cell_type": "markdown",
   "metadata": {},
   "source": [
    "# Data Wrangling Step for the Regular Season Batting Data\n",
    "For the purposes of this analysis we are going to start of by looking at the batting statistics in the regular season. One of the first steps is to read the original dataframe and extract out the records we think are most relevant for the analysis. For the purposes of the analysis we are going to be considering records post year 2000 and also records that have a positive value for \"At Bats. \n",
    "\n",
    "Based on some research I did, we could also predict the values of the dependent variables from the independent variables using \"test train split\" approach that comes with the scikit package (http://scikit-learn.org/stable/modules/generated/sklearn.model_selection.train_test_split.html). This process is called imputation https://en.wikipedia.org/wiki/Imputation_(statistics). However for the purposes of this project we are not going to be doing that. That said, I have tried to give \"test train split\" approach and calculated the predicted values. I have also calculated the R Square value, which is another measure to explain the proportion of the variance in the dependent variable that is predictable from the independent variable. However these additional statistical tests where done to just cross check the results of my correlation test. "
   ]
  },
  {
   "cell_type": "code",
   "execution_count": 487,
   "metadata": {
    "collapsed": false
   },
   "outputs": [],
   "source": [
    "raw_batting_df_nonzeroab = raw_batting_df[(raw_batting_df.AB>0) & (raw_batting_df.yearID>=2000)].copy()"
   ]
  },
  {
   "cell_type": "markdown",
   "metadata": {},
   "source": [
    "# Validating the results of extraction"
   ]
  },
  {
   "cell_type": "code",
   "execution_count": 488,
   "metadata": {
    "collapsed": false
   },
   "outputs": [
    {
     "data": {
      "text/html": [
       "<div>\n",
       "<table border=\"1\" class=\"dataframe\">\n",
       "  <thead>\n",
       "    <tr style=\"text-align: right;\">\n",
       "      <th></th>\n",
       "      <th>playerID</th>\n",
       "      <th>yearID</th>\n",
       "      <th>stint</th>\n",
       "      <th>teamID</th>\n",
       "      <th>lgID</th>\n",
       "      <th>G</th>\n",
       "      <th>AB</th>\n",
       "      <th>R</th>\n",
       "      <th>H</th>\n",
       "      <th>2B</th>\n",
       "      <th>...</th>\n",
       "      <th>RBI</th>\n",
       "      <th>SB</th>\n",
       "      <th>CS</th>\n",
       "      <th>BB</th>\n",
       "      <th>SO</th>\n",
       "      <th>IBB</th>\n",
       "      <th>HBP</th>\n",
       "      <th>SH</th>\n",
       "      <th>SF</th>\n",
       "      <th>GIDP</th>\n",
       "    </tr>\n",
       "  </thead>\n",
       "  <tbody>\n",
       "    <tr>\n",
       "      <th>79248</th>\n",
       "      <td>abbotje01</td>\n",
       "      <td>2000</td>\n",
       "      <td>1</td>\n",
       "      <td>CHA</td>\n",
       "      <td>AL</td>\n",
       "      <td>80</td>\n",
       "      <td>215.0</td>\n",
       "      <td>31.0</td>\n",
       "      <td>59.0</td>\n",
       "      <td>15.0</td>\n",
       "      <td>...</td>\n",
       "      <td>29.0</td>\n",
       "      <td>2.0</td>\n",
       "      <td>1.0</td>\n",
       "      <td>21.0</td>\n",
       "      <td>38.0</td>\n",
       "      <td>1.0</td>\n",
       "      <td>2.0</td>\n",
       "      <td>2.0</td>\n",
       "      <td>1.0</td>\n",
       "      <td>2.0</td>\n",
       "    </tr>\n",
       "    <tr>\n",
       "      <th>79249</th>\n",
       "      <td>abbotku01</td>\n",
       "      <td>2000</td>\n",
       "      <td>1</td>\n",
       "      <td>NYN</td>\n",
       "      <td>NL</td>\n",
       "      <td>79</td>\n",
       "      <td>157.0</td>\n",
       "      <td>22.0</td>\n",
       "      <td>34.0</td>\n",
       "      <td>7.0</td>\n",
       "      <td>...</td>\n",
       "      <td>12.0</td>\n",
       "      <td>1.0</td>\n",
       "      <td>1.0</td>\n",
       "      <td>14.0</td>\n",
       "      <td>51.0</td>\n",
       "      <td>2.0</td>\n",
       "      <td>1.0</td>\n",
       "      <td>0.0</td>\n",
       "      <td>1.0</td>\n",
       "      <td>2.0</td>\n",
       "    </tr>\n",
       "    <tr>\n",
       "      <th>79250</th>\n",
       "      <td>abbotpa01</td>\n",
       "      <td>2000</td>\n",
       "      <td>1</td>\n",
       "      <td>SEA</td>\n",
       "      <td>AL</td>\n",
       "      <td>35</td>\n",
       "      <td>5.0</td>\n",
       "      <td>1.0</td>\n",
       "      <td>2.0</td>\n",
       "      <td>1.0</td>\n",
       "      <td>...</td>\n",
       "      <td>0.0</td>\n",
       "      <td>0.0</td>\n",
       "      <td>0.0</td>\n",
       "      <td>0.0</td>\n",
       "      <td>1.0</td>\n",
       "      <td>0.0</td>\n",
       "      <td>0.0</td>\n",
       "      <td>1.0</td>\n",
       "      <td>0.0</td>\n",
       "      <td>0.0</td>\n",
       "    </tr>\n",
       "    <tr>\n",
       "      <th>79251</th>\n",
       "      <td>abreubo01</td>\n",
       "      <td>2000</td>\n",
       "      <td>1</td>\n",
       "      <td>PHI</td>\n",
       "      <td>NL</td>\n",
       "      <td>154</td>\n",
       "      <td>576.0</td>\n",
       "      <td>103.0</td>\n",
       "      <td>182.0</td>\n",
       "      <td>42.0</td>\n",
       "      <td>...</td>\n",
       "      <td>79.0</td>\n",
       "      <td>28.0</td>\n",
       "      <td>8.0</td>\n",
       "      <td>100.0</td>\n",
       "      <td>116.0</td>\n",
       "      <td>9.0</td>\n",
       "      <td>1.0</td>\n",
       "      <td>0.0</td>\n",
       "      <td>3.0</td>\n",
       "      <td>12.0</td>\n",
       "    </tr>\n",
       "    <tr>\n",
       "      <th>79252</th>\n",
       "      <td>aceveju01</td>\n",
       "      <td>2000</td>\n",
       "      <td>1</td>\n",
       "      <td>MIL</td>\n",
       "      <td>NL</td>\n",
       "      <td>62</td>\n",
       "      <td>1.0</td>\n",
       "      <td>1.0</td>\n",
       "      <td>0.0</td>\n",
       "      <td>0.0</td>\n",
       "      <td>...</td>\n",
       "      <td>0.0</td>\n",
       "      <td>0.0</td>\n",
       "      <td>0.0</td>\n",
       "      <td>1.0</td>\n",
       "      <td>1.0</td>\n",
       "      <td>0.0</td>\n",
       "      <td>0.0</td>\n",
       "      <td>0.0</td>\n",
       "      <td>0.0</td>\n",
       "      <td>0.0</td>\n",
       "    </tr>\n",
       "  </tbody>\n",
       "</table>\n",
       "<p>5 rows × 22 columns</p>\n",
       "</div>"
      ],
      "text/plain": [
       "        playerID  yearID  stint teamID lgID    G     AB      R      H    2B  \\\n",
       "79248  abbotje01    2000      1    CHA   AL   80  215.0   31.0   59.0  15.0   \n",
       "79249  abbotku01    2000      1    NYN   NL   79  157.0   22.0   34.0   7.0   \n",
       "79250  abbotpa01    2000      1    SEA   AL   35    5.0    1.0    2.0   1.0   \n",
       "79251  abreubo01    2000      1    PHI   NL  154  576.0  103.0  182.0  42.0   \n",
       "79252  aceveju01    2000      1    MIL   NL   62    1.0    1.0    0.0   0.0   \n",
       "\n",
       "       ...    RBI    SB   CS     BB     SO  IBB  HBP   SH   SF  GIDP  \n",
       "79248  ...   29.0   2.0  1.0   21.0   38.0  1.0  2.0  2.0  1.0   2.0  \n",
       "79249  ...   12.0   1.0  1.0   14.0   51.0  2.0  1.0  0.0  1.0   2.0  \n",
       "79250  ...    0.0   0.0  0.0    0.0    1.0  0.0  0.0  1.0  0.0   0.0  \n",
       "79251  ...   79.0  28.0  8.0  100.0  116.0  9.0  1.0  0.0  3.0  12.0  \n",
       "79252  ...    0.0   0.0  0.0    1.0    1.0  0.0  0.0  0.0  0.0   0.0  \n",
       "\n",
       "[5 rows x 22 columns]"
      ]
     },
     "execution_count": 488,
     "metadata": {},
     "output_type": "execute_result"
    }
   ],
   "source": [
    "raw_batting_df_nonzeroab.head(5)"
   ]
  },
  {
   "cell_type": "markdown",
   "metadata": {},
   "source": [
    "# Analysis 1:  \"Strike Outs\" v/s \"Home Runs\" Relationship and What it Means\n",
    "Coming from a cricketing background, strikeout is referred to as a the batsman getting out. In cricket it is called as getting out. A homerun on the other side is a good thing for a batsman. That said, batters who have a high strikeout rate it might not always be a bad thing. It might just mean that they are very aggressive batters and are willing to take the risk of giving the ball a good hit and send it a long distance and in the process there are occasions when they strikeout, contributing to their high strike rate. On the flipside they could also be racking up some high Homeruns during the season. Hence when coaches look at the Strikeout statistics for certain players in the team it might make sense to see it in correlation with the other positive batting statistics and see if there is any sort of correlation \n",
    "\t\n",
    "The purpose of the analysis is to look at the correlation between batsman Strikeouts and Home Runs. For this analysis we are going to be using the Home Runs scored as the dependent variable along Y, and the Strikeouts along the independent variable along X. \n",
    "\n",
    "The rationale behind selecting these two variables is to look at two contrasting attributes in batting in terms of the final result and help understand whether the relationship between the two variables. \n",
    "  "
   ]
  },
  {
   "cell_type": "markdown",
   "metadata": {},
   "source": [
    "# Analyzing Home Runs Trends Independently"
   ]
  },
  {
   "cell_type": "code",
   "execution_count": 489,
   "metadata": {
    "collapsed": false
   },
   "outputs": [
    {
     "data": {
      "text/plain": [
       "(array([  1.13890000e+04,   1.83700000e+03,   1.07900000e+03,\n",
       "          7.17000000e+02,   4.97000000e+02,   3.24000000e+02,\n",
       "          2.09000000e+02,   9.20000000e+01,   7.20000000e+01,\n",
       "          3.30000000e+01,   1.20000000e+01,   6.00000000e+00,\n",
       "          0.00000000e+00,   1.00000000e+00,   1.00000000e+00]),\n",
       " array([  0.        ,   4.86666667,   9.73333333,  14.6       ,\n",
       "         19.46666667,  24.33333333,  29.2       ,  34.06666667,\n",
       "         38.93333333,  43.8       ,  48.66666667,  53.53333333,\n",
       "         58.4       ,  63.26666667,  68.13333333,  73.        ]),\n",
       " <a list of 15 Patch objects>)"
      ]
     },
     "execution_count": 489,
     "metadata": {},
     "output_type": "execute_result"
    },
    {
     "data": {
      "image/png": "[encoded data removed]",
      "text/plain": [
       "<matplotlib.figure.Figure at 0x28bd7e10>"
      ]
     },
     "metadata": {},
     "output_type": "display_data"
    }
   ],
   "source": [
    "home_runs = raw_batting_df_nonzeroab['HR']\n",
    "plt.hist(home_runs, bins=15)"
   ]
  },
  {
   "cell_type": "markdown",
   "metadata": {},
   "source": [
    "# Analyzing Strikeout Trends Independently "
   ]
  },
  {
   "cell_type": "code",
   "execution_count": 490,
   "metadata": {
    "collapsed": false
   },
   "outputs": [
    {
     "data": {
      "text/plain": [
       "(array([  7.55700000e+03,   2.49500000e+03,   1.51600000e+03,\n",
       "          1.17200000e+03,   1.01200000e+03,   7.94000000e+02,\n",
       "          6.56000000e+02,   4.03000000e+02,   3.14000000e+02,\n",
       "          1.73000000e+02,   8.90000000e+01,   4.60000000e+01,\n",
       "          2.50000000e+01,   1.30000000e+01,   4.00000000e+00]),\n",
       " array([   0.        ,   14.86666667,   29.73333333,   44.6       ,\n",
       "          59.46666667,   74.33333333,   89.2       ,  104.06666667,\n",
       "         118.93333333,  133.8       ,  148.66666667,  163.53333333,\n",
       "         178.4       ,  193.26666667,  208.13333333,  223.        ]),\n",
       " <a list of 15 Patch objects>)"
      ]
     },
     "execution_count": 490,
     "metadata": {},
     "output_type": "execute_result"
    },
    {
     "data": {
      "image/png": "[encoded data removed]",
      "text/plain": [
       "<matplotlib.figure.Figure at 0x2d7b4a90>"
      ]
     },
     "metadata": {},
     "output_type": "display_data"
    }
   ],
   "source": [
    "strike_outs = raw_batting_df_nonzeroab['SO']\n",
    "plt.hist(strike_outs, bins = 15, color = 'g')"
   ]
  },
  {
   "cell_type": "markdown",
   "metadata": {},
   "source": [
    "# Preliminary Conclusion:\n",
    "While we started of trying to find some kind of correlation between two datapoints it is very important to look at the data points seperately and chart them to see if there is any kind of similarities that we could potentially find. On plotting out the two datapoints independently as histogram plots we see that the histogram plots have a very similar shape, both the plots are positively skewed. This could potentially mean that there is some level of dependency between the variables, hence we shall do more statiscal analysis to confirm or validate the results of the hypothesis.  \n",
    "\n"
   ]
  },
  {
   "cell_type": "markdown",
   "metadata": {},
   "source": [
    "# Advanced Analysis: Calculating the Correlation between Home Runs and Strikeouts by feeding in the strikeouts and homerun data into the earlier function that was created"
   ]
  },
  {
   "cell_type": "code",
   "execution_count": 491,
   "metadata": {
    "collapsed": false
   },
   "outputs": [
    {
     "name": "stdout",
     "output_type": "stream",
     "text": [
      "0.830856261048\n"
     ]
    }
   ],
   "source": [
    "strike_outs = raw_batting_df_nonzeroab['SO']\n",
    "home_runs = raw_batting_df_nonzeroab['HR']\n",
    "print correlation(home_runs,strike_outs)"
   ]
  },
  {
   "cell_type": "markdown",
   "metadata": {},
   "source": [
    "The corelation of 0.83 between home runs and strike outs does indicate a high level of co-relation between the two variables in question. A large correlation coefficient does not necessarily indicate that a relationship is casual. Hence before we get too excited about the causual relationship, we need to make sure that the corelation is statistically legitimate. For our sense and purposes, we are going to use additional statistical tests and metrics to determine the relationship between the variables. \n",
    "\n"
   ]
  },
  {
   "cell_type": "markdown",
   "metadata": {},
   "source": [
    "# Visualization: Scatter plot between Strike outs and Home Runs \n",
    "One of the first step is to plot a scatter plot between the two variables under analysis"
   ]
  },
  {
   "cell_type": "code",
   "execution_count": 492,
   "metadata": {
    "collapsed": false
   },
   "outputs": [
    {
     "data": {
      "text/plain": [
       "<matplotlib.text.Text at 0x2d58acc0>"
      ]
     },
     "execution_count": 492,
     "metadata": {},
     "output_type": "execute_result"
    },
    {
     "data": {
      "image/png": "[encoded data removed]",
      "text/plain": [
       "<matplotlib.figure.Figure at 0x2d592780>"
      ]
     },
     "metadata": {},
     "output_type": "display_data"
    }
   ],
   "source": [
    "plt.scatter(x=strike_outs,y=home_runs, color='Green')\n",
    "plt.xlabel('Strike Outs')\n",
    "plt.ylabel('Home Runs')"
   ]
  },
  {
   "cell_type": "markdown",
   "metadata": {},
   "source": [
    "# Performing Linear Regression on Strike outs (Independent Variable) and Home Runs (Dependent Variable Y) \n",
    "We are going to use some more advanced Linear Regression approach to model the relationship between the Independent Variable and the Dependent Variable under consideration. For the purposes of this analysis we are going to be using the scikit package that comes as a part of python to do the regression analysis on the Independent Variable and the Dependent Variable."
   ]
  },
  {
   "cell_type": "markdown",
   "metadata": {},
   "source": [
    "One of the first step while building out the model is to identify the Independent Variable (features) and the Dependent Variable(targets) that needs to be fed into the regression to create a model. "
   ]
  },
  {
   "cell_type": "code",
   "execution_count": 493,
   "metadata": {
    "collapsed": true
   },
   "outputs": [],
   "source": [
    "features_labels = ['SO']\n",
    "target_labels = ['HR']\n",
    "features = raw_batting_df_nonzeroab[features_labels]\n",
    "target = raw_batting_df_nonzeroab[target_labels]"
   ]
  },
  {
   "cell_type": "markdown",
   "metadata": {},
   "source": [
    "What is \"train_test_split\" approach? \n",
    "\n",
    "\n",
    "While creating a model it is very important to validate the correctness of the model. Hence as a general rule, the data that is used to create the model is not the same data that is used to validate the correctness of the model, else it could lead to other issues like \"overfitting\". The train_test_split function in scikit essentially allows us to create subsets of data from the population to build a regression model, followed by testing the model on the remaining subset of the data. "
   ]
  },
  {
   "cell_type": "code",
   "execution_count": 494,
   "metadata": {
    "collapsed": false
   },
   "outputs": [],
   "source": [
    "\n",
    "features_train, features_test, target_train, target_test = train_test_split(features, \n",
    "                                                                            target, test_size = 0.33, random_state = 42)"
   ]
  },
  {
   "cell_type": "markdown",
   "metadata": {},
   "source": [
    "# Linear Regression\n",
    "Calling the linear regression model with the selected data groups"
   ]
  },
  {
   "cell_type": "code",
   "execution_count": 495,
   "metadata": {
    "collapsed": false
   },
   "outputs": [
    {
     "data": {
      "text/plain": [
       "LinearRegression(copy_X=True, fit_intercept=True, n_jobs=1, normalize=False)"
      ]
     },
     "execution_count": 495,
     "metadata": {},
     "output_type": "execute_result"
    }
   ],
   "source": [
    "lr = LinearRegression()\n",
    "lr.fit(features_train, target_train)"
   ]
  },
  {
   "cell_type": "markdown",
   "metadata": {},
   "source": [
    "# Intercept \n",
    "The intercept (often labeled the constant) is the expected mean value of Y when all X=0."
   ]
  },
  {
   "cell_type": "code",
   "execution_count": 496,
   "metadata": {
    "collapsed": false
   },
   "outputs": [
    {
     "data": {
      "text/plain": [
       "array([-1.03990906])"
      ]
     },
     "execution_count": 496,
     "metadata": {},
     "output_type": "execute_result"
    }
   ],
   "source": [
    "lr.intercept_"
   ]
  },
  {
   "cell_type": "code",
   "execution_count": 497,
   "metadata": {
    "collapsed": false
   },
   "outputs": [
    {
     "data": {
      "text/plain": [
       "array([[ 0.17988226]])"
      ]
     },
     "execution_count": 497,
     "metadata": {},
     "output_type": "execute_result"
    }
   ],
   "source": [
    "lr.coef_"
   ]
  },
  {
   "cell_type": "markdown",
   "metadata": {},
   "source": [
    "# R Squared"
   ]
  },
  {
   "cell_type": "markdown",
   "metadata": {},
   "source": [
    "R-squared is a statistical measure of how close the data are to the fitted regression line. It is also known as the coefficient of determination, or the coefficient of multiple determination for multiple regression.\n",
    "\n",
    "R-squared = Explained variation / Total variation\n",
    "\n",
    "R-squared is always between 0 and 100%:\n",
    "\n",
    "* 0% indicates that the model explains none of the variability of the response data around its mean.\n",
    "* 100% indicates that the model explains all the variability of the response data around its mean.\n",
    "\n",
    "In general, the higher the R-squared, the better the model fits your data"
   ]
  },
  {
   "cell_type": "code",
   "execution_count": 498,
   "metadata": {
    "collapsed": false
   },
   "outputs": [
    {
     "data": {
      "text/plain": [
       "0.69902010066465037"
      ]
     },
     "execution_count": 498,
     "metadata": {},
     "output_type": "execute_result"
    }
   ],
   "source": [
    "lr.score(features_test, target_test)"
   ]
  },
  {
   "cell_type": "markdown",
   "metadata": {},
   "source": [
    "The R Square of .699 or 69.9% means that the model explains the variablity around the mean 70% of the time."
   ]
  },
  {
   "cell_type": "markdown",
   "metadata": {},
   "source": [
    "# Validating and Assessing the results of the model "
   ]
  },
  {
   "cell_type": "code",
   "execution_count": 499,
   "metadata": {
    "collapsed": false
   },
   "outputs": [],
   "source": [
    "target_pred = lr.predict(features_test)\n",
    "# UnComment out the line below to see the targer predicted values based on the linear regression model\n",
    "# zip(target_pred, target_test.HR)"
   ]
  },
  {
   "cell_type": "markdown",
   "metadata": {},
   "source": [
    "# Final Conclusion -  \"Strike Outs\" v/s \"Home Runs\" Relationship and What it Means"
   ]
  },
  {
   "cell_type": "markdown",
   "metadata": {},
   "source": [
    "The analysis presents that the co-relation between \"Strike Outs\" and \"Home Runs\" is a very high 0.83. On first look it  tells a story that a strikeouts and homeruns move together in the positive direction. Hence only looking at the \"Strikeouts\" stats for a batter while judging his performance might not be a good indicator.It probably needs to be looked into conjunction with other batting stats and evaluated appropriately.\n",
    "\n",
    "We also tried to validate the results of the correlation using another stastical test and calculated the R square value. The R Square for our test was 69.9%. The value for R Square can be between 0 and 100%. 0% indicates that the model explains none of the variability of the response data around its mean.100% indicates that the model explains all the variability of the response data around its mean. Our number of 69.9 (~70%) indicates that the model explains the variability of the predicted data around 70% of the time. \n",
    "\n",
    "# Some Visible Limitations \n",
    "\n",
    "The limitations of this analysis can be categorized into three sections \n",
    "* Analysis on the Subset of the Data can sometimes skew the results in one direction \n",
    "* Looking at only one Dependent Variable (In real life situations, we will be looking at hundreds of dependent variables and analyzing its impact on the Independent Variable) \n",
    "* Correlation Does not Mean Causation\n",
    "\n",
    "\n",
    "**Analysis on the Subset of Data**:\n",
    "\n",
    "While the results of the initial analysis and some of the advanced analysis using simple linear regression model does help explain some of the answers we are trying to answer around the correlation between \"Strike Outs\" and \"Home Runs\" it can not be said that the analysis is perfect or error free. Any kind of data analysis in the real world comes up some level of assumptions and selective data extraction. In our example, we extracted the data post 2000 and also we chose to only pick records where we had a valid value for \"Strike Outs\" and \"Home Runs\". While the former was pretty straight forward, the later was done by looking for \"AT BATS\" values greater than \"0\". While this data analysis choose to ignore certain records based on certain conditions, we always run the risk of **skewing** our results of the analysis. \n",
    "\n",
    "**Analysis on one Dependent Variable**\n",
    "\n",
    "Further analysis could also be done by looking at more dependent variables and validating the impact on the independent variables. E.g. Instead of looking at just the \"Strike Outs\" we could also look for other dependent variables like \"Stolen Bases\" or \"Hits\". The other approach could be do individual analysis across the different depenendent variables and identify the best dependent variable to be chosen to analyze the behavior of the independent variable. \n",
    "\n",
    "**Corelation Does not Mean Causation**\n",
    "\n",
    "While the analysis does look at the variables independently, followed by looking at the co-relation, followed by doing some additional linear regression tests to calculate the R Square value. A lot of the conclusion is based on the results of the corelation between the two variables. Based on some addition research some of the other tests that data analyst have generally done are Random Forest Test, Anova test, F Test. "
   ]
  },
  {
   "cell_type": "markdown",
   "metadata": {},
   "source": [
    "# Analysis 2:  \"Batting Average\" v/s \"Runs Scored\" and what it means\n",
    "For someone like me who is trying to learn baseball from the heels of a very similar game in cricket,  the batting average is a huge statistic in cricket and in most cases a high batting average in a season more or less means high number of runs scored. The analysis looks at whether batting average is a good measure of the runs scored by a batsman. Ideally speaking (and also based on my experience with following stats in Cricket), a high batting average generally means the batsman is an above average batsman, which should almost always translate to the runs scored. \n",
    "\t\n",
    "The purpose of the analysis is to review the correlation between the runs scored by batsman (provided as a part of the dataset) and the batting average, that is yet to be computed based on the data provided. For this analysis I am going to be using runs scored as a the dependent variable along Y, and the calculated batting average as the independent variable along X "
   ]
  },
  {
   "cell_type": "markdown",
   "metadata": {},
   "source": [
    "# Data Wrangling - Batting Average"
   ]
  },
  {
   "cell_type": "markdown",
   "metadata": {},
   "source": [
    "Calculating the batting average using the \"Home Runs\" and \"At Bats\". \n",
    "\n",
    "We are using the vectorized operation (np.vectorize) to calculate the batting average for each record in the dataframe"
   ]
  },
  {
   "cell_type": "code",
   "execution_count": 500,
   "metadata": {
    "collapsed": false
   },
   "outputs": [],
   "source": [
    "raw_batting_df_nonzeroab['batting_average'] = np.vectorize(batting_average)(raw_batting_df_nonzeroab['H'], \n",
    "                                                                            raw_batting_df_nonzeroab['AB'])"
   ]
  },
  {
   "cell_type": "markdown",
   "metadata": {},
   "source": [
    "# Analyzing Batting Average Independently \n",
    "One of the key elements while analyzing any data element is to validate the behavior of the element independently. It is called as single variable exploration, where in the variable under analysis is looked at the by itself independently, or before any modifications. For the purpose of our analysis we are going to be looking at the trend of the batting average and runs scored using simple histogram plots and/or boxplots. "
   ]
  },
  {
   "cell_type": "markdown",
   "metadata": {},
   "source": [
    "In the cell below, we are extracting the batting average from the original dataframe and storing the result in a new  dataframe for easily plotting into the box plot or histogram "
   ]
  },
  {
   "cell_type": "code",
   "execution_count": 501,
   "metadata": {
    "collapsed": false
   },
   "outputs": [],
   "source": [
    "batting_average_df = raw_batting_df_nonzeroab.batting_average.to_frame()"
   ]
  },
  {
   "cell_type": "markdown",
   "metadata": {},
   "source": [
    "# BoxPlot for Batting Average "
   ]
  },
  {
   "cell_type": "code",
   "execution_count": 502,
   "metadata": {
    "collapsed": false
   },
   "outputs": [
    {
     "name": "stderr",
     "output_type": "stream",
     "text": [
      "C:\\Users\\achristudas\\Anaconda2\\lib\\site-packages\\ipykernel\\__main__.py:1: FutureWarning: \n",
      "The default value for 'return_type' will change to 'axes' in a future release.\n",
      " To use the future behavior now, set return_type='axes'.\n",
      " To keep the previous behavior and silence this warning, set return_type='dict'.\n",
      "  if __name__ == '__main__':\n"
     ]
    },
    {
     "data": {
      "text/plain": [
       "{'boxes': [<matplotlib.lines.Line2D at 0x2d9baa58>],\n",
       " 'caps': [<matplotlib.lines.Line2D at 0x2d9ca7b8>,\n",
       "  <matplotlib.lines.Line2D at 0x2d9cad30>],\n",
       " 'fliers': [<matplotlib.lines.Line2D at 0x2e927860>],\n",
       " 'means': [],\n",
       " 'medians': [<matplotlib.lines.Line2D at 0x2e9272e8>],\n",
       " 'whiskers': [<matplotlib.lines.Line2D at 0x2d9bac18>,\n",
       "  <matplotlib.lines.Line2D at 0x2d9ca240>]}"
      ]
     },
     "execution_count": 502,
     "metadata": {},
     "output_type": "execute_result"
    },
    {
     "data": {
      "image/png": "[encoded data removed]",
      "text/plain": [
       "<matplotlib.figure.Figure at 0x2c0770f0>"
      ]
     },
     "metadata": {},
     "output_type": "display_data"
    }
   ],
   "source": [
    "batting_average_df.boxplot()"
   ]
  },
  {
   "cell_type": "markdown",
   "metadata": {},
   "source": [
    "# Histogram for Batting Average "
   ]
  },
  {
   "cell_type": "code",
   "execution_count": 503,
   "metadata": {
    "collapsed": false
   },
   "outputs": [
    {
     "data": {
      "text/plain": [
       "array([[<matplotlib.axes._subplots.AxesSubplot object at 0x000000002D9586D8>]], dtype=object)"
      ]
     },
     "execution_count": 503,
     "metadata": {},
     "output_type": "execute_result"
    },
    {
     "data": {
      "image/png": "[encoded data removed]",
      "text/plain": [
       "<matplotlib.figure.Figure at 0x2d9756d8>"
      ]
     },
     "metadata": {},
     "output_type": "display_data"
    }
   ],
   "source": [
    "batting_average_df.hist(bins=20, color ='g')"
   ]
  },
  {
   "cell_type": "markdown",
   "metadata": {},
   "source": [
    "The boxplot and Histogram plots for Batting Average gives us some very interesting pieces of information on the data. We see that there are definitely a huge frequency of batters who have a zero batting average, and then we also see that there are a few batters who have a batting average of greater than .5. As it can be seen from the plots above the mean of the batting average across the league is around 0.23. "
   ]
  },
  {
   "cell_type": "markdown",
   "metadata": {},
   "source": [
    "On further analysis of the vizualization plots and looking at the high frequency of the batting averages being \"0\" we noticed that the count \"At Bats\" were really low. Hence for the purpose of analyzing the impact of batting averages and runs scored, we had to extract out datapoints where the batting average was greater than \"0\". This was done so that the results are not skewed and it also forms a better basis for our hypothesis to see the impacts of batting average on the runs scored. "
   ]
  },
  {
   "cell_type": "code",
   "execution_count": 504,
   "metadata": {
    "collapsed": false
   },
   "outputs": [],
   "source": [
    "int_nonzero_batting_average_df = raw_batting_df_nonzeroab[raw_batting_df_nonzeroab.batting_average>0].copy()\n",
    "nonzero_batting_average = int_nonzero_batting_average_df[int_nonzero_batting_average_df.batting_average<=0.5].copy()\n"
   ]
  },
  {
   "cell_type": "markdown",
   "metadata": {},
   "source": [
    "# New Histogram Plot for Batting Averages"
   ]
  },
  {
   "cell_type": "code",
   "execution_count": 505,
   "metadata": {
    "collapsed": false
   },
   "outputs": [
    {
     "data": {
      "text/plain": [
       "<matplotlib.text.Text at 0x2e6dba20>"
      ]
     },
     "execution_count": 505,
     "metadata": {},
     "output_type": "execute_result"
    },
    {
     "data": {
      "image/png": "[encoded data removed]",
      "text/plain": [
       "<matplotlib.figure.Figure at 0x2e6db7f0>"
      ]
     },
     "metadata": {},
     "output_type": "display_data"
    }
   ],
   "source": [
    "plt.hist([nonzero_batting_average['batting_average']], bins=20, color ='g')\n",
    "plt.suptitle(\"Batting Average\")"
   ]
  },
  {
   "cell_type": "markdown",
   "metadata": {},
   "source": [
    "# Analyzing the Runs Scored Independently\n",
    "# Extracting the Runs Scored\n",
    "We are extracting the runs scored for the dataset, where the batting average is greater than 0.0 but smaller than 0.5. "
   ]
  },
  {
   "cell_type": "code",
   "execution_count": 506,
   "metadata": {
    "collapsed": false
   },
   "outputs": [],
   "source": [
    "runs_scored_df = raw_batting_df_nonzeroab[(raw_batting_df_nonzeroab.batting_average>0) \n",
    "                                          & (raw_batting_df_nonzeroab.batting_average<=0.5)].copy()"
   ]
  },
  {
   "cell_type": "markdown",
   "metadata": {},
   "source": [
    "Extracting the Runs Scored Column from the original dataframe into a new dataframe for the purposes of analysis"
   ]
  },
  {
   "cell_type": "code",
   "execution_count": 507,
   "metadata": {
    "collapsed": false
   },
   "outputs": [],
   "source": [
    "runs_scored = runs_scored_df.R.to_frame()"
   ]
  },
  {
   "cell_type": "markdown",
   "metadata": {},
   "source": [
    "# BoxPlot for Runs Scored "
   ]
  },
  {
   "cell_type": "code",
   "execution_count": 508,
   "metadata": {
    "collapsed": false
   },
   "outputs": [
    {
     "name": "stderr",
     "output_type": "stream",
     "text": [
      "C:\\Users\\achristudas\\Anaconda2\\lib\\site-packages\\ipykernel\\__main__.py:1: FutureWarning: \n",
      "The default value for 'return_type' will change to 'axes' in a future release.\n",
      " To use the future behavior now, set return_type='axes'.\n",
      " To keep the previous behavior and silence this warning, set return_type='dict'.\n",
      "  if __name__ == '__main__':\n"
     ]
    },
    {
     "data": {
      "text/plain": [
       "{'boxes': [<matplotlib.lines.Line2D at 0x2a2ebd68>],\n",
       " 'caps': [<matplotlib.lines.Line2D at 0x2a2fdac8>,\n",
       "  <matplotlib.lines.Line2D at 0x2a30b080>],\n",
       " 'fliers': [<matplotlib.lines.Line2D at 0x2a30bb70>],\n",
       " 'means': [],\n",
       " 'medians': [<matplotlib.lines.Line2D at 0x2a30b5f8>],\n",
       " 'whiskers': [<matplotlib.lines.Line2D at 0x2a2ebf28>,\n",
       "  <matplotlib.lines.Line2D at 0x2a2fd550>]}"
      ]
     },
     "execution_count": 508,
     "metadata": {},
     "output_type": "execute_result"
    },
    {
     "data": {
      "image/png": "[encoded data removed]",
      "text/plain": [
       "<matplotlib.figure.Figure at 0x27d21128>"
      ]
     },
     "metadata": {},
     "output_type": "display_data"
    }
   ],
   "source": [
    "runs_scored.boxplot()"
   ]
  },
  {
   "cell_type": "markdown",
   "metadata": {},
   "source": [
    "# Histogram Plot for Runs Scored"
   ]
  },
  {
   "cell_type": "code",
   "execution_count": 509,
   "metadata": {
    "collapsed": false
   },
   "outputs": [
    {
     "data": {
      "text/plain": [
       "<matplotlib.text.Text at 0x2e3f6940>"
      ]
     },
     "execution_count": 509,
     "metadata": {},
     "output_type": "execute_result"
    },
    {
     "data": {
      "image/png": "[encoded data removed]",
      "text/plain": [
       "<matplotlib.figure.Figure at 0x2e3f6ac8>"
      ]
     },
     "metadata": {},
     "output_type": "display_data"
    }
   ],
   "source": [
    "plt.hist([runs_scored_df['R']], bins=20)\n",
    "plt.suptitle(\"Runs Scored\")"
   ]
  },
  {
   "cell_type": "markdown",
   "metadata": {},
   "source": [
    "# Preliminary Conclusion:\n",
    "While we started of trying to find some kind of correlation between two datapoints it is very important to look at the data points seperately and chart them to see if there is any kind of similarities that we could potentially find. On plotting out the two datapoints independently as histogram plots we noticeably see that the histogram plots have two different shapes. This helps us make the assumption that we are probably looking at two datasets that do not have a  relationship. \n",
    "\n",
    "A lot of times we could run into this problem in data analysis when we start of by looking at the distinct datapoints with the purpose of trying to chart out a relationship between then only to determine that there might not be a strong relationship as we had earlier assumed. It is at this point we go into the next level of statistical analysis like identifying the correlation, and performing other kinds of statistical tests"
   ]
  },
  {
   "cell_type": "markdown",
   "metadata": {},
   "source": [
    "# Correlation Between Batting Average and Runs Scored"
   ]
  },
  {
   "cell_type": "code",
   "execution_count": 510,
   "metadata": {
    "collapsed": false
   },
   "outputs": [
    {
     "name": "stdout",
     "output_type": "stream",
     "text": [
      "0.390432559179\n"
     ]
    }
   ],
   "source": [
    "batting_avg = nonzero_batting_average['batting_average']\n",
    "runs_scored = runs_scored_df['R']\n",
    "print correlation(batting_avg,runs_scored)"
   ]
  },
  {
   "cell_type": "markdown",
   "metadata": {},
   "source": [
    "# Scatter plot between Batting Average and Runs Scored\n",
    "The scatter plot here is the simplest way to show a visualization between \"Batting Average\" and \"Runs Scored\" "
   ]
  },
  {
   "cell_type": "code",
   "execution_count": 511,
   "metadata": {
    "collapsed": false
   },
   "outputs": [
    {
     "data": {
      "text/plain": [
       "<matplotlib.text.Text at 0x2dd637f0>"
      ]
     },
     "execution_count": 511,
     "metadata": {},
     "output_type": "execute_result"
    },
    {
     "data": {
      "image/png": "[encoded data removed]",
      "text/plain": [
       "<matplotlib.figure.Figure at 0x2edc1be0>"
      ]
     },
     "metadata": {},
     "output_type": "display_data"
    }
   ],
   "source": [
    "plt.scatter(x=batting_avg,y=runs_scored, color='Green')\n",
    "plt.xlabel('Batting Average')\n",
    "plt.ylabel('Runs Scored')"
   ]
  },
  {
   "cell_type": "markdown",
   "metadata": {},
   "source": [
    " # Final Conclusion - \"Batting Average\" and \"Runs  Scored\" and what it means"
   ]
  },
  {
   "cell_type": "markdown",
   "metadata": {},
   "source": [
    "The analysis presents a positive 0.38 correlation between \"Batting Average\" and \"Home Runs\". As a general rule of thumb and based on referencing the material in https://explorable.com/statistical-correlation, for the purposes of our analysis we can assume that \"Batting Average\" and \"Home Runs\" have a very weak relationship. Hence we should look to analyze some other batting statistics to see the batter efficiency. For the purposes of this project I am not doing further linear regression as performed in the other data set\n",
    "\n",
    "In addition looking at the two variables independently and charting out the histogram plots gave a decent assesment of the lack relationship between the dependent and the independent variables. "
   ]
  },
  {
   "cell_type": "markdown",
   "metadata": {},
   "source": [
    "# Analysis 3: Does a high OPS always translate to Higher Runs being Scored by the Team? \n",
    "\n",
    "A lot of baseball statisticians are not a big fan of the traditional batting statistics (e.g. Batting Average,RBI) to evaluate the value of a batter). OPS was created to evaluate the ability of the player to get to bases and the powwer of the batter to get the needed hits. It is fair to assume the the players with high OPS would contribute heavily to the teams runs scored. The purpose of this analysis is to review that hypothesis. That said, OPS needs to be calculated based on already available batting statistics\n"
   ]
  },
  {
   "cell_type": "markdown",
   "metadata": {},
   "source": [
    "# Data Wrangling - Making a copy of the Teams Data Frame to Include Data Post 2000"
   ]
  },
  {
   "cell_type": "code",
   "execution_count": 512,
   "metadata": {
    "collapsed": false
   },
   "outputs": [],
   "source": [
    "teams_df = raw_teams_df[(raw_teams_df.yearID>=2000)].copy()\n",
    "# teams_df.head()"
   ]
  },
  {
   "cell_type": "markdown",
   "metadata": {},
   "source": [
    "# Fixing the data type on for \"AT BATS\", \"Hits\" & \"Base on Balls\" as Float (Earlier it was set to Integer)\n",
    "The float datatype comes in handy while doing analysis and also while dealing with decimal places. Baseball being a game where every decimal counts having the datapoints to be analyzed in a float datatype can come in very handy. "
   ]
  },
  {
   "cell_type": "code",
   "execution_count": 513,
   "metadata": {
    "collapsed": false
   },
   "outputs": [],
   "source": [
    "teams_df.AB = teams_df.AB.astype(float)\n",
    "teams_df.H = teams_df.H.astype(float)\n",
    "teams_df.BB = teams_df.BB.astype(float)"
   ]
  },
  {
   "cell_type": "code",
   "execution_count": 514,
   "metadata": {
    "collapsed": false
   },
   "outputs": [
    {
     "data": {
      "text/html": [
       "<div>\n",
       "<table border=\"1\" class=\"dataframe\">\n",
       "  <thead>\n",
       "    <tr style=\"text-align: right;\">\n",
       "      <th></th>\n",
       "      <th>yearID</th>\n",
       "      <th>lgID</th>\n",
       "      <th>teamID</th>\n",
       "      <th>franchID</th>\n",
       "      <th>divID</th>\n",
       "      <th>Rank</th>\n",
       "      <th>G</th>\n",
       "      <th>Ghome</th>\n",
       "      <th>W</th>\n",
       "      <th>L</th>\n",
       "      <th>...</th>\n",
       "      <th>DP</th>\n",
       "      <th>FP</th>\n",
       "      <th>name</th>\n",
       "      <th>park</th>\n",
       "      <th>attendance</th>\n",
       "      <th>BPF</th>\n",
       "      <th>PPF</th>\n",
       "      <th>teamIDBR</th>\n",
       "      <th>teamIDlahman45</th>\n",
       "      <th>teamIDretro</th>\n",
       "    </tr>\n",
       "  </thead>\n",
       "  <tbody>\n",
       "    <tr>\n",
       "      <th>2325</th>\n",
       "      <td>2000</td>\n",
       "      <td>AL</td>\n",
       "      <td>ANA</td>\n",
       "      <td>ANA</td>\n",
       "      <td>W</td>\n",
       "      <td>3</td>\n",
       "      <td>162</td>\n",
       "      <td>81.0</td>\n",
       "      <td>82</td>\n",
       "      <td>80</td>\n",
       "      <td>...</td>\n",
       "      <td>182.0</td>\n",
       "      <td>0.978</td>\n",
       "      <td>Anaheim Angels</td>\n",
       "      <td>Edison International Field</td>\n",
       "      <td>2066982.0</td>\n",
       "      <td>102</td>\n",
       "      <td>103</td>\n",
       "      <td>ANA</td>\n",
       "      <td>ANA</td>\n",
       "      <td>ANA</td>\n",
       "    </tr>\n",
       "    <tr>\n",
       "      <th>2326</th>\n",
       "      <td>2000</td>\n",
       "      <td>NL</td>\n",
       "      <td>ARI</td>\n",
       "      <td>ARI</td>\n",
       "      <td>W</td>\n",
       "      <td>3</td>\n",
       "      <td>162</td>\n",
       "      <td>81.0</td>\n",
       "      <td>85</td>\n",
       "      <td>77</td>\n",
       "      <td>...</td>\n",
       "      <td>138.0</td>\n",
       "      <td>0.982</td>\n",
       "      <td>Arizona Diamondbacks</td>\n",
       "      <td>Bank One Ballpark</td>\n",
       "      <td>2942251.0</td>\n",
       "      <td>105</td>\n",
       "      <td>103</td>\n",
       "      <td>ARI</td>\n",
       "      <td>ARI</td>\n",
       "      <td>ARI</td>\n",
       "    </tr>\n",
       "    <tr>\n",
       "      <th>2327</th>\n",
       "      <td>2000</td>\n",
       "      <td>NL</td>\n",
       "      <td>ATL</td>\n",
       "      <td>ATL</td>\n",
       "      <td>E</td>\n",
       "      <td>1</td>\n",
       "      <td>162</td>\n",
       "      <td>81.0</td>\n",
       "      <td>95</td>\n",
       "      <td>67</td>\n",
       "      <td>...</td>\n",
       "      <td>138.0</td>\n",
       "      <td>0.979</td>\n",
       "      <td>Atlanta Braves</td>\n",
       "      <td>Turner Field</td>\n",
       "      <td>3234304.0</td>\n",
       "      <td>101</td>\n",
       "      <td>99</td>\n",
       "      <td>ATL</td>\n",
       "      <td>ATL</td>\n",
       "      <td>ATL</td>\n",
       "    </tr>\n",
       "    <tr>\n",
       "      <th>2328</th>\n",
       "      <td>2000</td>\n",
       "      <td>AL</td>\n",
       "      <td>BAL</td>\n",
       "      <td>BAL</td>\n",
       "      <td>E</td>\n",
       "      <td>4</td>\n",
       "      <td>162</td>\n",
       "      <td>81.0</td>\n",
       "      <td>74</td>\n",
       "      <td>88</td>\n",
       "      <td>...</td>\n",
       "      <td>151.0</td>\n",
       "      <td>0.981</td>\n",
       "      <td>Baltimore Orioles</td>\n",
       "      <td>Oriole Park at Camden Yards</td>\n",
       "      <td>3297031.0</td>\n",
       "      <td>95</td>\n",
       "      <td>96</td>\n",
       "      <td>BAL</td>\n",
       "      <td>BAL</td>\n",
       "      <td>BAL</td>\n",
       "    </tr>\n",
       "    <tr>\n",
       "      <th>2329</th>\n",
       "      <td>2000</td>\n",
       "      <td>AL</td>\n",
       "      <td>BOS</td>\n",
       "      <td>BOS</td>\n",
       "      <td>E</td>\n",
       "      <td>2</td>\n",
       "      <td>162</td>\n",
       "      <td>81.0</td>\n",
       "      <td>85</td>\n",
       "      <td>77</td>\n",
       "      <td>...</td>\n",
       "      <td>120.0</td>\n",
       "      <td>0.982</td>\n",
       "      <td>Boston Red Sox</td>\n",
       "      <td>Fenway Park II</td>\n",
       "      <td>2585895.0</td>\n",
       "      <td>104</td>\n",
       "      <td>103</td>\n",
       "      <td>BOS</td>\n",
       "      <td>BOS</td>\n",
       "      <td>BOS</td>\n",
       "    </tr>\n",
       "  </tbody>\n",
       "</table>\n",
       "<p>5 rows × 48 columns</p>\n",
       "</div>"
      ],
      "text/plain": [
       "      yearID lgID teamID franchID divID  Rank    G  Ghome   W   L  \\\n",
       "2325    2000   AL    ANA      ANA     W     3  162   81.0  82  80   \n",
       "2326    2000   NL    ARI      ARI     W     3  162   81.0  85  77   \n",
       "2327    2000   NL    ATL      ATL     E     1  162   81.0  95  67   \n",
       "2328    2000   AL    BAL      BAL     E     4  162   81.0  74  88   \n",
       "2329    2000   AL    BOS      BOS     E     2  162   81.0  85  77   \n",
       "\n",
       "         ...          DP     FP                  name  \\\n",
       "2325     ...       182.0  0.978        Anaheim Angels   \n",
       "2326     ...       138.0  0.982  Arizona Diamondbacks   \n",
       "2327     ...       138.0  0.979        Atlanta Braves   \n",
       "2328     ...       151.0  0.981     Baltimore Orioles   \n",
       "2329     ...       120.0  0.982        Boston Red Sox   \n",
       "\n",
       "                             park  attendance  BPF  PPF  teamIDBR  \\\n",
       "2325   Edison International Field   2066982.0  102  103       ANA   \n",
       "2326            Bank One Ballpark   2942251.0  105  103       ARI   \n",
       "2327                 Turner Field   3234304.0  101   99       ATL   \n",
       "2328  Oriole Park at Camden Yards   3297031.0   95   96       BAL   \n",
       "2329               Fenway Park II   2585895.0  104  103       BOS   \n",
       "\n",
       "      teamIDlahman45  teamIDretro  \n",
       "2325             ANA          ANA  \n",
       "2326             ARI          ARI  \n",
       "2327             ATL          ATL  \n",
       "2328             BAL          BAL  \n",
       "2329             BOS          BOS  \n",
       "\n",
       "[5 rows x 48 columns]"
      ]
     },
     "execution_count": 514,
     "metadata": {},
     "output_type": "execute_result"
    }
   ],
   "source": [
    "teams_df.head(5)"
   ]
  },
  {
   "cell_type": "markdown",
   "metadata": {},
   "source": [
    "# Prior to calculating the OPS, a few other data points needs to be created. The next couple of  cells calculates the intermediate data points before calculating the value for OPS "
   ]
  },
  {
   "cell_type": "markdown",
   "metadata": {},
   "source": [
    "# Calculating 1B"
   ]
  },
  {
   "cell_type": "code",
   "execution_count": 515,
   "metadata": {
    "collapsed": false
   },
   "outputs": [],
   "source": [
    "teams_df['1B'] = teams_df['H'] - teams_df['2B'] - teams_df['3B'] - teams_df['HR']"
   ]
  },
  {
   "cell_type": "markdown",
   "metadata": {},
   "source": [
    "# Calculating Total Bases"
   ]
  },
  {
   "cell_type": "markdown",
   "metadata": {},
   "source": [
    "Total bases (TBs) is the number of bases a player has gained with hits. It is a weighted sum for which the weight value is 1 for a single, 2 for a double, 3 for a triple and 4 for a home run. Only bases attained from hits count toward this total."
   ]
  },
  {
   "cell_type": "code",
   "execution_count": 516,
   "metadata": {
    "collapsed": false
   },
   "outputs": [],
   "source": [
    "teams_df['TB'] = (teams_df['1B'] + (2*teams_df['2B']) + (3*teams_df['3B']) + (4*teams_df['HR']))"
   ]
  },
  {
   "cell_type": "markdown",
   "metadata": {},
   "source": [
    "# Calculating Slugging Percentage"
   ]
  },
  {
   "cell_type": "markdown",
   "metadata": {},
   "source": [
    "Slugging percentage(abbreviated SLG) is a popular measure of the power of a hitter. It is calculated as total bases divided by at bats: where AB is the number of at-bats for a given player, and 1B, 2B, 3B, and HR are the number of singles, doubles, triples, and home runs, respectively."
   ]
  },
  {
   "cell_type": "code",
   "execution_count": 517,
   "metadata": {
    "collapsed": true
   },
   "outputs": [],
   "source": [
    "teams_df['SLG'] = teams_df['TB']/teams_df['AB']"
   ]
  },
  {
   "cell_type": "markdown",
   "metadata": {},
   "source": [
    "# Calculating Onbase Percentage "
   ]
  },
  {
   "cell_type": "markdown",
   "metadata": {},
   "source": [
    "Onbase Percentage is measure of how often a batter reaches base for any reason other than a fielding error, fielder's choice, dropped/uncaught third strike, fielder's obstruction, or catcher's interference"
   ]
  },
  {
   "cell_type": "code",
   "execution_count": 518,
   "metadata": {
    "collapsed": true
   },
   "outputs": [],
   "source": [
    "teams_df['OBP'] = ((teams_df['H'] + teams_df['BB'] + teams_df['HBP'])/(teams_df['AB']+ teams_df['BB'] + teams_df['SF'] +\n",
    "                                                                     teams_df['HBP']))"
   ]
  },
  {
   "cell_type": "markdown",
   "metadata": {},
   "source": [
    "# Calculating Onbase Plus Slugging (OPS) "
   ]
  },
  {
   "cell_type": "markdown",
   "metadata": {},
   "source": [
    "OPS adds on-base percentage and slugging percentage to get one number that unites the two. It's meant to combine how well a hitter can reach base, with how well he can hit for average and for power. As a result, OPS is widely considered one of the best evaluative tools for hitters."
   ]
  },
  {
   "cell_type": "code",
   "execution_count": 519,
   "metadata": {
    "collapsed": false
   },
   "outputs": [],
   "source": [
    "teams_df['OPS'] = teams_df['OBP'] + teams_df['SLG']"
   ]
  },
  {
   "cell_type": "code",
   "execution_count": 520,
   "metadata": {
    "collapsed": false
   },
   "outputs": [],
   "source": [
    "runs = teams_df['R']\n",
    "ops =  teams_df['OPS']"
   ]
  },
  {
   "cell_type": "markdown",
   "metadata": {},
   "source": [
    "# Analyzing the OPS Score Independently"
   ]
  },
  {
   "cell_type": "code",
   "execution_count": 521,
   "metadata": {
    "collapsed": false
   },
   "outputs": [
    {
     "data": {
      "text/plain": [
       "<matplotlib.text.Text at 0x2efa8d68>"
      ]
     },
     "execution_count": 521,
     "metadata": {},
     "output_type": "execute_result"
    },
    {
     "data": {
      "image/png": "[encoded data removed]",
      "text/plain": [
       "<matplotlib.figure.Figure at 0x2efa8ac8>"
      ]
     },
     "metadata": {},
     "output_type": "display_data"
    }
   ],
   "source": [
    "plt.hist(ops, color ='g')\n",
    "plt.suptitle(\"OPS\")"
   ]
  },
  {
   "cell_type": "markdown",
   "metadata": {},
   "source": [
    "# Analyzing Runs Scored Independently"
   ]
  },
  {
   "cell_type": "code",
   "execution_count": 522,
   "metadata": {
    "collapsed": false
   },
   "outputs": [
    {
     "data": {
      "text/plain": [
       "<matplotlib.text.Text at 0x2f0c9470>"
      ]
     },
     "execution_count": 522,
     "metadata": {},
     "output_type": "execute_result"
    },
    {
     "data": {
      "image/png": "[encoded data removed]",
      "text/plain": [
       "<matplotlib.figure.Figure at 0x2f0c9438>"
      ]
     },
     "metadata": {},
     "output_type": "display_data"
    }
   ],
   "source": [
    "plt.hist(runs)\n",
    "plt.suptitle(\"Runs Scored\")"
   ]
  },
  {
   "cell_type": "markdown",
   "metadata": {},
   "source": [
    "# Calculating the Correlation Between Runs and OPS"
   ]
  },
  {
   "cell_type": "code",
   "execution_count": 523,
   "metadata": {
    "collapsed": false
   },
   "outputs": [
    {
     "name": "stdout",
     "output_type": "stream",
     "text": [
      "0.955407042704\n"
     ]
    }
   ],
   "source": [
    "print correlation (runs, ops)"
   ]
  },
  {
   "cell_type": "markdown",
   "metadata": {},
   "source": [
    "There is a high degree of corelation between OPS and the Runs Scored by the team. However, we need to be sure that this is not a case of spurious corelation, also another thing to keep in mind is that correlation does not always means causation, hence it is important to apply other kinds of statistical tests and confirm the hypothesis."
   ]
  },
  {
   "cell_type": "markdown",
   "metadata": {},
   "source": [
    "# Performing Linear Regression on OPS (Independent Variable) and Runs Scored (Dependent Variable Y)\n",
    "We are going to use some more advanced Linear Regression approach to model the relationship between the Independent Variable and the Dependent Variable under consideration. For the purposes of this analysis we are going to be using the scikit package that comes as a part of python to do the regression analysis on the Independent Variable and the Dependent Variable.\n",
    "\n",
    "One of the first step while building out the model is to identify the Independent Variable (features) and the Dependent Variable(targets) that needs to be fed into the regression to create a model. "
   ]
  },
  {
   "cell_type": "code",
   "execution_count": 524,
   "metadata": {
    "collapsed": false
   },
   "outputs": [],
   "source": [
    "features_labels = ['OPS']\n",
    "target_labels = ['R']\n",
    "features = teams_df[features_labels]\n",
    "target = teams_df[target_labels]"
   ]
  },
  {
   "cell_type": "markdown",
   "metadata": {},
   "source": [
    "**What is \"train_test_split\" approach?** \n",
    "\n",
    "While creating a model it is very important to validate the correctness of the model. Hence as a general rule, the data that is used to create the model is not the same data that is used to validate the correctness of the model, else it could lead to other issues like \"overfitting\". The train_test_split function in scikit essentially allows us to create subsets of data from the population to build a regression model, followed by testing the model on the remaining subset of the data. "
   ]
  },
  {
   "cell_type": "code",
   "execution_count": 525,
   "metadata": {
    "collapsed": true
   },
   "outputs": [],
   "source": [
    "features_train, features_test, target_train, target_test = train_test_split(features, \n",
    "                                                                            target, test_size = 0.33, random_state = 42)"
   ]
  },
  {
   "cell_type": "code",
   "execution_count": 526,
   "metadata": {
    "collapsed": false
   },
   "outputs": [
    {
     "data": {
      "text/plain": [
       "LinearRegression(copy_X=True, fit_intercept=True, n_jobs=1, normalize=False)"
      ]
     },
     "execution_count": 526,
     "metadata": {},
     "output_type": "execute_result"
    }
   ],
   "source": [
    "lr = LinearRegression()\n",
    "lr.fit(features_train, target_train)"
   ]
  },
  {
   "cell_type": "markdown",
   "metadata": {},
   "source": [
    "# R Squared\n",
    "\n",
    "R-squared is a statistical measure of how close the data are to the fitted regression line. It is also known as the coefficient of determination, or the coefficient of multiple determination for multiple regression.\n",
    "\n",
    "R-squared = Explained variation / Total variation\n",
    "R-squared is always between 0 and 100%:\n",
    "\n",
    "* 0% indicates that the model explains none of the variability of the response data around its mean.\n",
    "* 100% indicates that the model explains all the variability of the response data around its mean.\n",
    "\n",
    "In general, the higher the R-squared, the better the model fits your data"
   ]
  },
  {
   "cell_type": "code",
   "execution_count": 527,
   "metadata": {
    "collapsed": false
   },
   "outputs": [
    {
     "data": {
      "text/plain": [
       "0.91089540171767824"
      ]
     },
     "execution_count": 527,
     "metadata": {},
     "output_type": "execute_result"
    }
   ],
   "source": [
    "lr.score(features_test, target_test)"
   ]
  },
  {
   "cell_type": "markdown",
   "metadata": {},
   "source": [
    "The R Square value of .91 means that the model explains the variance 91% percent of the time "
   ]
  },
  {
   "cell_type": "markdown",
   "metadata": {
    "collapsed": true
   },
   "source": [
    "# Final Conclusion: Does a high OPS always translate to Higher Runs being Scored by the Team?"
   ]
  },
  {
   "cell_type": "markdown",
   "metadata": {},
   "source": [
    "There is a high degree of positive corelation between OPS and Runs Scored. Hence we can safely assume that teams whose batters would have a high OPS would result in the respective teams having higher runs scored. We have also applied the linear regression methodology and calculated the R Squared value. The R Square value of 91% lends more credibility to the initial hypothesis that there is a high level of positive correlation between the independent and dependent variables. \n",
    "\n",
    "While the results of the correlation and linear regression provide support to the hypothesis, the limitations discussed in the first analysis apply well to this analysis as well. It can well be categorized into the following \n",
    "\n",
    "* Analysis on the Subset of the Data can sometimes skew the results in one direction. \n",
    "* Analysis one Dependent Variable (In real life situations, we will be looking at hundreds of dependent variables and analyzing its impact on the Independent Variable). \n",
    "* Correlation Does not Mean Causation. Additional statistical tests (Random Forest, F Test, Z Test) could be performed to provide more valuable insight. \n"
   ]
  },
  {
   "cell_type": "markdown",
   "metadata": {},
   "source": [
    "## References\n",
    "* http://sabr.org/sabermetrics\n",
    "* https://www.uu.edu/dept/math/SeniorPapers/01-02/Patterson.pdf\n",
    "* http://m.mlb.com/glossary/standard-stats/on-base-plus-slugging\n",
    "* http://myyouthbaseball.com/understanding-using-baseball-statistics.html\n",
    "* http://www.fangraphs.com/library/offense/ops/\n",
    "* http://www.eg.bucknell.edu/~bvollmay/baseball/runs1.html\n",
    "* https://www.uu.edu/dept/math/SeniorPapers/01-02/Patterson.pdf \n",
    "* http://blog.yhat.com/posts/scraping-and-analyzing-baseball-data-with-r.html\n",
    "* http://digitalcommons.calpoly.edu/cgi/viewcontent.cgi?article=1000&context=statsp\n",
    "* http://thesportjournal.org/article/an-examination-of-the-moneyball-theory-a-baseball-statistical-analysis/\n",
    "* http://emeyers.scripts.mit.edu/emeyers/teaching/cs-0149-introduction-to-statistics-through-baseball/ - \n",
    "* https://books.google.com/books?id=1mNZfyil2ecC&pg=PA3&lpg=PA3&dq=what+baseball+statistics+to+statisticians+look+for&source=bl&ots=oY5ykZna04&sig=zvkhx9C0vMghwz-xHxguatZFgnk&hl=en&sa=X&ved=0ahUKEwiQr_7cte_QAhVqzVQKHdehAko4ChDoAQgfMAE#v=onepage&q=what%20baseball%20statistics%20to%20statisticians%20look%20for&f=true\n",
    "* http://www.predictem.com/mlb/stats.php\n",
    "* http://maps.unomaha.edu/maher/GEOL2300/week3/week3.html\n",
    "* http://pandas.pydata.org/pandas-docs/version/0.18.1/visualization.html\n"
   ]
  },
  {
   "cell_type": "code",
   "execution_count": null,
   "metadata": {
    "collapsed": true
   },
   "outputs": [],
   "source": []
  }
 ],
 "metadata": {
  "anaconda-cloud": {},
  "kernelspec": {
   "display_name": "Python [default]",
   "language": "python",
   "name": "python2"
  },
  "language_info": {
   "codemirror_mode": {
    "name": "ipython",
    "version": 2
   },
   "file_extension": ".py",
   "mimetype": "text/x-python",
   "name": "python",
   "nbconvert_exporter": "python",
   "pygments_lexer": "ipython2",
   "version": "2.7.12"
  }
 },
 "nbformat": 4,
 "nbformat_minor": 1
}
